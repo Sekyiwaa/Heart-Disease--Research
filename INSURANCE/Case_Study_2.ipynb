{
  "cells": [
    {
      "cell_type": "code",
      "execution_count": null,
      "metadata": {
        "id": "HyaZwZm3WA9r"
      },
      "outputs": [],
      "source": [
        "import pandas as pd\n",
        "import numpy as np\n",
        "import io\n",
        "from sklearn.linear_model import LogisticRegression\n",
        "from matplotlib.pyplot import subplots\n",
        "import statsmodels.api as sm\n",
        "from sklearn.model_selection import GridSearchCV\n",
        "from sklearn.metrics import make_scorer, log_loss\n",
        "from sklearn.metrics import classification_report"
      ]
    },
    {
      "cell_type": "code",
      "execution_count": null,
      "metadata": {
        "id": "6Lq0cfaKW9TT",
        "colab": {
          "base_uri": "https://localhost:8080/"
        },
        "outputId": "27e9ffd5-4603-47b3-fccb-17524df4bfe7"
      },
      "outputs": [
        {
          "output_type": "stream",
          "name": "stdout",
          "text": [
            "      M_SNC_MST_RCNT_ACT_OPN  TOT_HI_CRDT_CRDT_LMT  RATIO_BAL_TO_HI_CRDT  \\\n",
            "0                       92.0               24300.0               5.00000   \n",
            "1                        2.0              259300.0               8.30000   \n",
            "2                       23.0               11500.0               0.00000   \n",
            "3                        9.0               33600.0               0.40000   \n",
            "4                      367.0                 200.0               0.00000   \n",
            "...                      ...                   ...                   ...   \n",
            "9995                    78.0                   0.0              36.09828   \n",
            "9996                    83.0                3000.0               0.00000   \n",
            "9997                     9.0              235276.0              11.90000   \n",
            "9998                   124.0                   0.0              36.09828   \n",
            "9999                     5.0              565808.0              16.60000   \n",
            "\n",
            "      AGRGT_BAL_ALL_XCLD_MRTG  N_OF_SATISFY_FNC_REV_ACTS  \\\n",
            "0                        1214                          0   \n",
            "1                      113430                          1   \n",
            "2                           0                          0   \n",
            "3                         122                          0   \n",
            "4                           0                          0   \n",
            "...                       ...                        ...   \n",
            "9995                        0                          0   \n",
            "9996                        0                          0   \n",
            "9997                     4041                          1   \n",
            "9998                        0                          0   \n",
            "9999                     3963                          1   \n",
            "\n",
            "      AVG_BAL_ALL_FNC_REV_ACTS  N_BANK_INSTLACTS  M_SNCOLDST_BNKINSTL_ACTOPN  \\\n",
            "0                  1728.331622                 0                   99.930936   \n",
            "1                  3165.000000                 3                  109.000000   \n",
            "2                  1728.331622                 0                   99.930936   \n",
            "3                  1728.331622                 0                   99.930936   \n",
            "4                  1728.331622                 0                   99.930936   \n",
            "...                        ...               ...                         ...   \n",
            "9995               1728.332000                 0                   99.930940   \n",
            "9996               1728.332000                 0                   99.930940   \n",
            "9997               1728.332000                 1                  132.000000   \n",
            "9998               1728.332000                 1                  138.000000   \n",
            "9999               1728.332000                 0                   99.930940   \n",
            "\n",
            "      N_FNC_INSTLACTS  N_SATISFY_INSTL_ACTS  ...  D_REGION_C  \\\n",
            "0                   1                     0  ...           0   \n",
            "1                   0                     1  ...           0   \n",
            "2                   0                     0  ...           0   \n",
            "3                   0                     0  ...           0   \n",
            "4                   0                     0  ...           0   \n",
            "...               ...                   ...  ...         ...   \n",
            "9995                1                     0  ...           0   \n",
            "9996                2                     0  ...           0   \n",
            "9997                1                     1  ...           0   \n",
            "9998                0                     0  ...           0   \n",
            "9999                4                     0  ...           0   \n",
            "\n",
            "      D_NA_M_SNC_MST_RCNT_ACT_OPN  D_NA_AVG_BAL_ALL_FNC_REV_ACTS  \\\n",
            "0                               0                              1   \n",
            "1                               0                              0   \n",
            "2                               0                              1   \n",
            "3                               0                              1   \n",
            "4                               0                              1   \n",
            "...                           ...                            ...   \n",
            "9995                            0                              1   \n",
            "9996                            0                              1   \n",
            "9997                            0                              1   \n",
            "9998                            0                              1   \n",
            "9999                            0                              1   \n",
            "\n",
            "      D_NA_M_SNCOLDST_BNKINSTL_ACTOPN  D_NA_M_SNC_OLDST_MRTG_ACT_OPN  \\\n",
            "0                                   1                              1   \n",
            "1                                   0                              0   \n",
            "2                                   1                              1   \n",
            "3                                   1                              1   \n",
            "4                                   1                              1   \n",
            "...                               ...                            ...   \n",
            "9995                                1                              0   \n",
            "9996                                1                              1   \n",
            "9997                                0                              0   \n",
            "9998                                0                              1   \n",
            "9999                                1                              0   \n",
            "\n",
            "      D_NA_M_SNC_MST_RCNT_MRTG_DEAL  D_NA_RATIO_PRSNL_FNC_BAL2HICRDT  \\\n",
            "0                                 1                                1   \n",
            "1                                 1                                1   \n",
            "2                                 1                                1   \n",
            "3                                 1                                1   \n",
            "4                                 1                                1   \n",
            "...                             ...                              ...   \n",
            "9995                              0                                1   \n",
            "9996                              1                                1   \n",
            "9997                              0                                1   \n",
            "9998                              1                                1   \n",
            "9999                              1                                1   \n",
            "\n",
            "      D_N_DISPUTED_ACTS  PURCHASE  UNIQUE_ID  \n",
            "0                     0         0          1  \n",
            "1                     1         1          6  \n",
            "2                     0         0          7  \n",
            "3                     0         0          8  \n",
            "4                     0         0          9  \n",
            "...                 ...       ...        ...  \n",
            "9995                  0         0      20028  \n",
            "9996                  0         0      20029  \n",
            "9997                  0         1      20030  \n",
            "9998                  0         0      20031  \n",
            "9999                  0         0      20033  \n",
            "\n",
            "[10000 rows x 69 columns]\n"
          ]
        }
      ],
      "source": [
        "df_train = pd.read_csv('InsuranceData_train.csv')\n",
        "print(df_train)"
      ]
    },
    {
      "cell_type": "code",
      "execution_count": null,
      "metadata": {
        "id": "gDOQmf98XBZG",
        "colab": {
          "base_uri": "https://localhost:8080/"
        },
        "outputId": "f22fdb00-9a8a-4e42-d878-62c081445648"
      },
      "outputs": [
        {
          "output_type": "stream",
          "name": "stdout",
          "text": [
            "(10000, 69)\n"
          ]
        }
      ],
      "source": [
        "print(df_train.shape)"
      ]
    },
    {
      "cell_type": "code",
      "execution_count": null,
      "metadata": {
        "id": "5S46ImKBXLiD",
        "colab": {
          "base_uri": "https://localhost:8080/"
        },
        "outputId": "be1aaeb3-77d2-4dd8-ce42-0ecd96b1fd6b"
      },
      "outputs": [
        {
          "output_type": "stream",
          "name": "stdout",
          "text": [
            "PURCHASE\n",
            "0    7977\n",
            "1    2023\n",
            "Name: count, dtype: int64\n"
          ]
        }
      ],
      "source": [
        "frequency_table = df_train['PURCHASE'].value_counts()\n",
        "\n",
        "print(frequency_table)"
      ]
    },
    {
      "cell_type": "code",
      "execution_count": null,
      "metadata": {
        "id": "Dg0HHdODXO1l",
        "colab": {
          "base_uri": "https://localhost:8080/"
        },
        "outputId": "85556265-3fca-41bc-b285-cce4e0c305f9"
      },
      "outputs": [
        {
          "output_type": "stream",
          "name": "stdout",
          "text": [
            "      TREATMENT  PURCHASE  M_SNC_MST_RCNT_ACT_OPN  TOT_HI_CRDT_CRDT_LMT  \\\n",
            "0             0         0              347.000000                   0.0   \n",
            "1             0         0                6.000000                4992.0   \n",
            "2             1         0               29.883391                   0.0   \n",
            "3             0         0              117.000000                   0.0   \n",
            "4             1         0               95.000000               93553.0   \n",
            "...         ...       ...                     ...                   ...   \n",
            "9995          1         0                2.000000               98000.0   \n",
            "9996          1         0                1.000000              145251.0   \n",
            "9997          0         0               39.000000               44500.0   \n",
            "9998          0         0              186.000000                1079.0   \n",
            "9999          1         0                5.000000                 443.0   \n",
            "\n",
            "      RATIO_BAL_TO_HI_CRDT  AGRGT_BAL_ALL_XCLD_MRTG  \\\n",
            "0                 36.09506                        0   \n",
            "1                 77.70000                     3879   \n",
            "2                 36.09506                        0   \n",
            "3                 36.09506                        0   \n",
            "4                 11.30000                     1615   \n",
            "...                    ...                      ...   \n",
            "9995               0.40000                    39280   \n",
            "9996              12.50000                     8199   \n",
            "9997               7.50000                     3322   \n",
            "9998              36.09506                     1079   \n",
            "9999             100.00000                      443   \n",
            "\n",
            "      N_OF_SATISFY_FNC_REV_ACTS  AVG_BAL_ALL_FNC_REV_ACTS  N_BANK_INSTLACTS  \\\n",
            "0                             0               1767.197203                 0   \n",
            "1                             0               1767.197203                 0   \n",
            "2                             0               1767.197203                 0   \n",
            "3                             0               1767.197203                 0   \n",
            "4                             0               1767.197203                 8   \n",
            "...                         ...                       ...               ...   \n",
            "9995                          0               1767.197203                 0   \n",
            "9996                          3                  0.000000                 0   \n",
            "9997                          1                  0.000000                 0   \n",
            "9998                          0               1767.197203                 0   \n",
            "9999                          0               1767.197203                 0   \n",
            "\n",
            "      M_SNCOLDST_BNKINSTL_ACTOPN  ...  D_DEPTCARD  D_REGION_A  D_REGION_B  \\\n",
            "0                      99.789582  ...           0           0           0   \n",
            "1                      99.789582  ...           0           0           1   \n",
            "2                      99.789582  ...           0           0           1   \n",
            "3                      99.789582  ...           0           1           0   \n",
            "4                     151.000000  ...           1           1           0   \n",
            "...                          ...  ...         ...         ...         ...   \n",
            "9995                   99.789582  ...           1           0           1   \n",
            "9996                   99.789582  ...           1           0           0   \n",
            "9997                   99.789582  ...           0           0           1   \n",
            "9998                   99.789582  ...           0           0           1   \n",
            "9999                   99.789582  ...           0           0           0   \n",
            "\n",
            "      D_REGION_C  D_NA_M_SNC_MST_RCNT_ACT_OPN  D_NA_AVG_BAL_ALL_FNC_REV_ACTS  \\\n",
            "0              0                            0                              1   \n",
            "1              0                            0                              1   \n",
            "2              0                            1                              1   \n",
            "3              0                            0                              1   \n",
            "4              0                            0                              1   \n",
            "...          ...                          ...                            ...   \n",
            "9995           0                            0                              1   \n",
            "9996           0                            0                              0   \n",
            "9997           0                            0                              0   \n",
            "9998           0                            0                              1   \n",
            "9999           0                            0                              1   \n",
            "\n",
            "      D_NA_M_SNCOLDST_BNKINSTL_ACTOPN  D_NA_M_SNC_OLDST_MRTG_ACT_OPN  \\\n",
            "0                                   1                              1   \n",
            "1                                   1                              1   \n",
            "2                                   1                              1   \n",
            "3                                   1                              1   \n",
            "4                                   0                              0   \n",
            "...                               ...                            ...   \n",
            "9995                                1                              0   \n",
            "9996                                1                              0   \n",
            "9997                                1                              1   \n",
            "9998                                1                              1   \n",
            "9999                                1                              1   \n",
            "\n",
            "      D_NA_M_SNC_MST_RCNT_MRTG_DEAL  D_NA_RATIO_PRSNL_FNC_BAL2HICRDT  \n",
            "0                                 1                                1  \n",
            "1                                 1                                0  \n",
            "2                                 1                                1  \n",
            "3                                 1                                1  \n",
            "4                                 1                                1  \n",
            "...                             ...                              ...  \n",
            "9995                              1                                1  \n",
            "9996                              0                                0  \n",
            "9997                              1                                1  \n",
            "9998                              1                                1  \n",
            "9999                              1                                1  \n",
            "\n",
            "[10000 rows x 70 columns]\n"
          ]
        }
      ],
      "source": [
        "df_valid= pd.read_csv('InsuranceData_valid.csv')\n",
        "print(df_valid)"
      ]
    },
    {
      "cell_type": "code",
      "execution_count": null,
      "metadata": {
        "id": "Ak8k8MuUEzr3",
        "colab": {
          "base_uri": "https://localhost:8080/"
        },
        "outputId": "300fec75-c7d9-41ba-d9cf-608d1201a5bb"
      },
      "outputs": [
        {
          "output_type": "stream",
          "name": "stdout",
          "text": [
            "(10000, 69)\n",
            "(10000, 70)\n"
          ]
        }
      ],
      "source": [
        "print(df_train.shape)\n",
        "print(df_valid.shape)"
      ]
    },
    {
      "cell_type": "code",
      "execution_count": null,
      "metadata": {
        "id": "q_FvbQYDY60w"
      },
      "outputs": [],
      "source": [
        "def iv_woe(data, target, bins=10, show_woe=False):\n",
        "\n",
        "    #Empty Dataframe\n",
        "    newDF,woeDF = pd.DataFrame(), pd.DataFrame()\n",
        "\n",
        "    #Extract Column Names\n",
        "    cols = data.columns\n",
        "\n",
        "    #Run WOE and IV on all the independent variables\n",
        "    for ivars in cols[~cols.isin([target])]:\n",
        "        if (data[ivars].dtype.kind in 'bifc') and (len(np.unique(data[ivars]))>10):\n",
        "            binned_x = pd.qcut(data[ivars], bins,  duplicates='drop')\n",
        "            d0 = pd.DataFrame({'x': binned_x, 'y': data[target]})\n",
        "        else:\n",
        "            d0 = pd.DataFrame({'x': data[ivars], 'y': data[target]})\n",
        "\n",
        "\n",
        "        # Calculate the number of events in each group (bin)\n",
        "        d = d0.groupby(\"x\", as_index=False).agg({\"y\": [\"count\", \"sum\"]})\n",
        "        d.columns = ['Cutoff', 'N', 'Events']\n",
        "\n",
        "        # Calculate % of events in each group.\n",
        "        d['% of Events'] = np.maximum(d['Events'], 0.5) / d['Events'].sum()\n",
        "\n",
        "         # Calculate the non events in each group.\n",
        "        d['Non-Events'] = d['N'] - d['Events']\n",
        "        # Calculate % of non events in each group.\n",
        "        d['% of Non-Events'] = np.maximum(d['Non-Events'], 0.5) / d['Non-Events'].sum()\n",
        "\n",
        "        # Calculate WOE by taking natural log of division of % of non-events and % of events\n",
        "        d['WoE'] = np.log(d['% of Events']/d['% of Non-Events'])\n",
        "        d['IV'] = d['WoE'] * (d['% of Events'] - d['% of Non-Events'])\n",
        "        d.insert(loc=0, column='Variable', value=ivars)\n",
        "        print(\"Information value of \" + ivars + \" is \" + str(round(d['IV'].sum(),6)))\n",
        "        temp =pd.DataFrame({\"Variable\" : [ivars], \"IV\" : [d['IV'].sum()]}, columns = [\"Variable\", \"IV\"])\n",
        "        newDF=pd.concat([newDF,temp], axis=0)\n",
        "        woeDF=pd.concat([woeDF,d], axis=0)\n",
        "\n",
        "        #Show WOE Table\n",
        "        if show_woe == True:\n",
        "            print(d)\n",
        "    return newDF, woeDF"
      ]
    },
    {
      "cell_type": "code",
      "execution_count": null,
      "metadata": {
        "id": "D6kxrYDkZDNA",
        "colab": {
          "base_uri": "https://localhost:8080/"
        },
        "outputId": "ece762d9-8cbb-4094-d35c-8e07dad17d0c"
      },
      "outputs": [
        {
          "output_type": "stream",
          "name": "stdout",
          "text": [
            "Information value of M_SNC_MST_RCNT_ACT_OPN is 0.502863\n",
            "                 Variable          Cutoff     N  Events  % of Events  \\\n",
            "0  M_SNC_MST_RCNT_ACT_OPN   (-0.001, 2.0]  1166     322     0.159170   \n",
            "1  M_SNC_MST_RCNT_ACT_OPN      (2.0, 4.0]   912     243     0.120119   \n",
            "2  M_SNC_MST_RCNT_ACT_OPN      (4.0, 7.0]  1051     278     0.137420   \n",
            "3  M_SNC_MST_RCNT_ACT_OPN     (7.0, 11.0]   996     276     0.136431   \n",
            "4  M_SNC_MST_RCNT_ACT_OPN    (11.0, 17.0]   964     236     0.116658   \n",
            "5  M_SNC_MST_RCNT_ACT_OPN    (17.0, 27.0]   965     234     0.115670   \n",
            "6  M_SNC_MST_RCNT_ACT_OPN  (27.0, 29.875]  1689      53     0.026199   \n",
            "7  M_SNC_MST_RCNT_ACT_OPN  (29.875, 34.0]   291      75     0.037074   \n",
            "8  M_SNC_MST_RCNT_ACT_OPN    (34.0, 67.0]   985     208     0.102818   \n",
            "9  M_SNC_MST_RCNT_ACT_OPN   (67.0, 564.0]   981      98     0.048443   \n",
            "\n",
            "   Non-Events  % of Non-Events       WoE        IV  \n",
            "0         844         0.105804  0.408380  0.021793  \n",
            "1         669         0.083866  0.359258  0.013024  \n",
            "2         773         0.096904  0.349323  0.014153  \n",
            "3         720         0.090259  0.413130  0.019075  \n",
            "4         728         0.091262  0.245512  0.006235  \n",
            "5         731         0.091638  0.232888  0.005597  \n",
            "6        1636         0.205090 -2.057737  0.368110  \n",
            "7         216         0.027078  0.314191  0.003141  \n",
            "8         777         0.097405  0.054079  0.000293  \n",
            "9         883         0.110693 -0.826377  0.051442  \n",
            "Information value of TOT_HI_CRDT_CRDT_LMT is 0.886739\n",
            "               Variable                 Cutoff     N  Events  % of Events  \\\n",
            "0  TOT_HI_CRDT_CRDT_LMT        (-0.001, 800.0]  3001      98     0.048443   \n",
            "1  TOT_HI_CRDT_CRDT_LMT        (800.0, 9500.0]  1003     136     0.067227   \n",
            "2  TOT_HI_CRDT_CRDT_LMT      (9500.0, 22932.5]   996     235     0.116164   \n",
            "3  TOT_HI_CRDT_CRDT_LMT     (22932.5, 43461.0]  1000     315     0.155709   \n",
            "4  TOT_HI_CRDT_CRDT_LMT     (43461.0, 80571.0]  1000     362     0.178942   \n",
            "5  TOT_HI_CRDT_CRDT_LMT    (80571.0, 144343.8]  1000     364     0.179931   \n",
            "6  TOT_HI_CRDT_CRDT_LMT   (144343.8, 253969.4]  1000     279     0.137914   \n",
            "7  TOT_HI_CRDT_CRDT_LMT  (253969.4, 5075437.0]  1000     234     0.115670   \n",
            "\n",
            "   Non-Events  % of Non-Events       WoE        IV  \n",
            "0        2903         0.363921 -2.016552  0.636178  \n",
            "1         867         0.108687 -0.480403  0.019918  \n",
            "2         761         0.095399  0.196933  0.004089  \n",
            "3         685         0.085872  0.595135  0.041563  \n",
            "4         638         0.079980  0.805287  0.079693  \n",
            "5         636         0.079729  0.813936  0.081558  \n",
            "6         721         0.090385  0.422553  0.020084  \n",
            "7         766         0.096026  0.186120  0.003656  \n",
            "Information value of RATIO_BAL_TO_HI_CRDT is 0.677171\n",
            "               Variable           Cutoff     N  Events  % of Events  \\\n",
            "0  RATIO_BAL_TO_HI_CRDT    (-0.001, 0.6]  1044     316     0.156204   \n",
            "1  RATIO_BAL_TO_HI_CRDT       (0.6, 4.5]   967     391     0.193277   \n",
            "2  RATIO_BAL_TO_HI_CRDT      (4.5, 15.0]   990     314     0.155215   \n",
            "3  RATIO_BAL_TO_HI_CRDT     (15.0, 32.1]  1003     291     0.143846   \n",
            "4  RATIO_BAL_TO_HI_CRDT   (32.1, 36.098]  2902     146     0.072170   \n",
            "5  RATIO_BAL_TO_HI_CRDT  (36.098, 37.73]    94      19     0.009392   \n",
            "6  RATIO_BAL_TO_HI_CRDT   (37.73, 59.12]  1000     221     0.109244   \n",
            "7  RATIO_BAL_TO_HI_CRDT    (59.12, 83.0]  1002     197     0.097380   \n",
            "8  RATIO_BAL_TO_HI_CRDT    (83.0, 999.9]   998     128     0.063272   \n",
            "\n",
            "   Non-Events  % of Non-Events       WoE            IV  \n",
            "0         728         0.091262  0.537422  3.490087e-02  \n",
            "1         576         0.072208  0.984581  1.192029e-01  \n",
            "2         676         0.084744  0.605181  4.264793e-02  \n",
            "3         712         0.089257  0.477226  2.605138e-02  \n",
            "4        2756         0.345493 -1.565948  4.280100e-01  \n",
            "5          75         0.009402 -0.001068  1.072431e-08  \n",
            "6         779         0.097656  0.112132  1.299384e-03  \n",
            "7         805         0.100915 -0.035658  1.260501e-04  \n",
            "8         870         0.109064 -0.544482  2.493248e-02  \n",
            "Information value of AGRGT_BAL_ALL_XCLD_MRTG is 0.259798\n",
            "                  Variable                Cutoff     N  Events  % of Events  \\\n",
            "0  AGRGT_BAL_ALL_XCLD_MRTG       (-0.001, 329.0]  4003     434     0.214533   \n",
            "1  AGRGT_BAL_ALL_XCLD_MRTG       (329.0, 1531.5]   997     302     0.149283   \n",
            "2  AGRGT_BAL_ALL_XCLD_MRTG      (1531.5, 4787.6]  1000     265     0.130994   \n",
            "3  AGRGT_BAL_ALL_XCLD_MRTG     (4787.6, 11405.5]  1000     250     0.123579   \n",
            "4  AGRGT_BAL_ALL_XCLD_MRTG    (11405.5, 21401.6]  1000     252     0.124567   \n",
            "5  AGRGT_BAL_ALL_XCLD_MRTG    (21401.6, 41247.5]  1000     275     0.135937   \n",
            "6  AGRGT_BAL_ALL_XCLD_MRTG  (41247.5, 1105816.0]  1000     245     0.121107   \n",
            "\n",
            "   Non-Events  % of Non-Events       WoE        IV  \n",
            "0        3569         0.447411 -0.735015  0.171169  \n",
            "1         695         0.087125  0.538496  0.033472  \n",
            "2         735         0.092140  0.351840  0.013670  \n",
            "3         750         0.094020  0.273369  0.008080  \n",
            "4         748         0.093770  0.284007  0.008747  \n",
            "5         725         0.090886  0.402580  0.018136  \n",
            "6         755         0.094647  0.246521  0.006523  \n",
            "Information value of N_OF_SATISFY_FNC_REV_ACTS is 0.26036\n",
            "                    Variable  Cutoff     N  Events  % of Events  Non-Events  \\\n",
            "0  N_OF_SATISFY_FNC_REV_ACTS       0  7014    1031     0.509639        5983   \n",
            "1  N_OF_SATISFY_FNC_REV_ACTS       1  1682     535     0.264459        1147   \n",
            "2  N_OF_SATISFY_FNC_REV_ACTS       2   779     265     0.130994         514   \n",
            "3  N_OF_SATISFY_FNC_REV_ACTS       3   303     105     0.051903         198   \n",
            "4  N_OF_SATISFY_FNC_REV_ACTS       4   138      49     0.024221          89   \n",
            "5  N_OF_SATISFY_FNC_REV_ACTS       5    51      22     0.010875          29   \n",
            "6  N_OF_SATISFY_FNC_REV_ACTS       6    21       8     0.003955          13   \n",
            "7  N_OF_SATISFY_FNC_REV_ACTS       7     8       5     0.002472           3   \n",
            "8  N_OF_SATISFY_FNC_REV_ACTS       8     3       2     0.000989           1   \n",
            "9  N_OF_SATISFY_FNC_REV_ACTS      13     1       1     0.000494           0   \n",
            "\n",
            "   % of Non-Events       WoE        IV  \n",
            "0         0.750031 -0.386412  0.092890  \n",
            "1         0.143788  0.609342  0.073530  \n",
            "2         0.064435  0.709487  0.047222  \n",
            "3         0.024821  0.737674  0.019978  \n",
            "4         0.011157  0.775165  0.010127  \n",
            "5         0.003635  1.095727  0.007933  \n",
            "6         0.001630  0.886473  0.002061  \n",
            "7         0.000376  1.882806  0.003945  \n",
            "8         0.000125  2.065128  0.001783  \n",
            "9         0.000063  2.065128  0.000891  \n",
            "Information value of AVG_BAL_ALL_FNC_REV_ACTS is 0.184061\n",
            "                   Variable                 Cutoff     N  Events  % of Events  \\\n",
            "0  AVG_BAL_ALL_FNC_REV_ACTS      (-0.0001, 1136.8]  2000     680     0.336134   \n",
            "1  AVG_BAL_ALL_FNC_REV_ACTS    (1136.8, 1728.3316]  1642     270     0.133465   \n",
            "2  AVG_BAL_ALL_FNC_REV_ACTS  (1728.3316, 1728.332]  5970     960     0.474543   \n",
            "3  AVG_BAL_ALL_FNC_REV_ACTS   (1728.332, 158072.0]   388     113     0.055858   \n",
            "\n",
            "   Non-Events  % of Non-Events       WoE        IV  \n",
            "0        1320         0.165476  0.708687  0.120944  \n",
            "1        1372         0.171994 -0.253622  0.009772  \n",
            "2        5010         0.628056 -0.280277  0.043026  \n",
            "3         275         0.034474  0.482598  0.010320  \n",
            "Information value of N_BANK_INSTLACTS is 0.051663\n",
            "           Variable         Cutoff     N  Events  % of Events  Non-Events  \\\n",
            "0  N_BANK_INSTLACTS  (-0.001, 1.0]  7718    1411     0.697479        6307   \n",
            "1  N_BANK_INSTLACTS     (1.0, 2.0]   801     240     0.118636         561   \n",
            "2  N_BANK_INSTLACTS     (2.0, 3.0]   500     141     0.069698         359   \n",
            "3  N_BANK_INSTLACTS    (3.0, 37.0]   981     231     0.114187         750   \n",
            "\n",
            "   % of Non-Events       WoE        IV  \n",
            "0         0.790648 -0.125381  0.011682  \n",
            "1         0.070327  0.522899  0.025260  \n",
            "2         0.045004  0.437418  0.010802  \n",
            "3         0.094020  0.194325  0.003919  \n",
            "Information value of M_SNCOLDST_BNKINSTL_ACTOPN is 0.118144\n",
            "                     Variable                 Cutoff     N  Events  \\\n",
            "0  M_SNCOLDST_BNKINSTL_ACTOPN       (0.999999, 69.0]  1007     252   \n",
            "1  M_SNCOLDST_BNKINSTL_ACTOPN      (69.0, 99.930936]  1951     369   \n",
            "2  M_SNCOLDST_BNKINSTL_ACTOPN  (99.930936, 99.93094]  4962     779   \n",
            "3  M_SNCOLDST_BNKINSTL_ACTOPN      (99.93094, 103.0]    91      29   \n",
            "4  M_SNCOLDST_BNKINSTL_ACTOPN         (103.0, 133.0]  1008     299   \n",
            "5  M_SNCOLDST_BNKINSTL_ACTOPN         (133.0, 381.0]   981     295   \n",
            "\n",
            "   % of Events  Non-Events  % of Non-Events       WoE        IV  \n",
            "0     0.124567         755         0.094647  0.274692  0.008219  \n",
            "1     0.182402        1582         0.198320 -0.083668  0.001332  \n",
            "2     0.385072        4183         0.524383 -0.308792  0.043018  \n",
            "3     0.014335          62         0.007772  0.612142  0.004017  \n",
            "4     0.147800         709         0.088881  0.508569  0.029965  \n",
            "5     0.145823         686         0.085997  0.528079  0.031593  \n",
            "Information value of N_FNC_INSTLACTS is 0.087036\n",
            "          Variable         Cutoff     N  Events  % of Events  Non-Events  \\\n",
            "0  N_FNC_INSTLACTS  (-0.001, 1.0]  7033    1199     0.592684        5834   \n",
            "1  N_FNC_INSTLACTS     (1.0, 2.0]  1009     277     0.136925         732   \n",
            "2  N_FNC_INSTLACTS     (2.0, 4.0]  1007     286     0.141374         721   \n",
            "3  N_FNC_INSTLACTS    (4.0, 58.0]   951     261     0.129016         690   \n",
            "\n",
            "   % of Non-Events       WoE        IV  \n",
            "0         0.731353 -0.210234  0.029153  \n",
            "1         0.091764  0.400218  0.018074  \n",
            "2         0.090385  0.447334  0.022809  \n",
            "3         0.086499  0.399810  0.016999  \n",
            "Information value of N_SATISFY_INSTL_ACTS is 0.009322\n",
            "               Variable         Cutoff     N  Events  % of Events  Non-Events  \\\n",
            "0  N_SATISFY_INSTL_ACTS  (-0.001, 1.0]  8614    1731     0.855660        6883   \n",
            "1  N_SATISFY_INSTL_ACTS     (1.0, 2.0]   762     189     0.093426         573   \n",
            "2  N_SATISFY_INSTL_ACTS    (2.0, 25.0]   624     103     0.050914         521   \n",
            "\n",
            "   % of Non-Events       WoE        IV  \n",
            "0         0.862856 -0.008374  0.000060  \n",
            "1         0.071832  0.262842  0.005676  \n",
            "2         0.065313 -0.249040  0.003586  \n",
            "Information value of M_SNC_MSTREC_INSTL_TRD_OPN is 0.187704\n",
            "                     Variable                 Cutoff     N  Events  \\\n",
            "0  M_SNC_MSTREC_INSTL_TRD_OPN          (-1e-06, 7.0]  1049     232   \n",
            "1  M_SNC_MSTREC_INSTL_TRD_OPN            (7.0, 17.0]  1022     241   \n",
            "2  M_SNC_MSTREC_INSTL_TRD_OPN           (17.0, 31.0]   968     244   \n",
            "3  M_SNC_MSTREC_INSTL_TRD_OPN       (31.0, 42.15646]  3810     532   \n",
            "4  M_SNC_MSTREC_INSTL_TRD_OPN  (42.15646, 42.156461]   869      94   \n",
            "5  M_SNC_MSTREC_INSTL_TRD_OPN      (42.156461, 50.0]   315      97   \n",
            "6  M_SNC_MSTREC_INSTL_TRD_OPN           (50.0, 79.0]   975     298   \n",
            "7  M_SNC_MSTREC_INSTL_TRD_OPN          (79.0, 299.0]   992     285   \n",
            "\n",
            "   % of Events  Non-Events  % of Non-Events       WoE        IV  \n",
            "0     0.114681         817         0.102419  0.113079  0.001387  \n",
            "1     0.119130         781         0.097906  0.196203  0.004164  \n",
            "2     0.120613         724         0.090761  0.284358  0.008489  \n",
            "3     0.262976        3278         0.410931 -0.446364  0.066042  \n",
            "4     0.046466         775         0.097154 -0.737587  0.037387  \n",
            "5     0.047949         218         0.027329  0.562197  0.011593  \n",
            "6     0.147306         677         0.084869  0.551403  0.034428  \n",
            "7     0.140880         707         0.088630  0.463439  0.024215  \n",
            "Information value of TOT_INSTL_HI_CRDT_CRDT_LMT is 0.042871\n",
            "                     Variable               Cutoff     N  Events  % of Events  \\\n",
            "0  TOT_INSTL_HI_CRDT_CRDT_LMT     (-0.001, 6677.4]  7000    1265     0.625309   \n",
            "1  TOT_INSTL_HI_CRDT_CRDT_LMT    (6677.4, 18210.4]  1000     233     0.115175   \n",
            "2  TOT_INSTL_HI_CRDT_CRDT_LMT   (18210.4, 33568.7]  1000     276     0.136431   \n",
            "3  TOT_INSTL_HI_CRDT_CRDT_LMT  (33568.7, 822981.0]  1000     249     0.123085   \n",
            "\n",
            "   Non-Events  % of Non-Events       WoE        IV  \n",
            "0        5735         0.718942 -0.139535  0.013065  \n",
            "1         767         0.096151  0.180532  0.003434  \n",
            "2         724         0.090761  0.407590  0.018615  \n",
            "3         751         0.094146  0.268028  0.007756  \n",
            "Information value of M_SNC_OLDST_MRTG_ACT_OPN is 0.182539\n",
            "                   Variable                  Cutoff     N  Events  \\\n",
            "0  M_SNC_OLDST_MRTG_ACT_OPN        (0.999999, 82.0]  1010     213   \n",
            "1  M_SNC_OLDST_MRTG_ACT_OPN           (82.0, 136.0]  1006     275   \n",
            "2  M_SNC_OLDST_MRTG_ACT_OPN       (136.0, 140.2417]  5013     788   \n",
            "3  M_SNC_OLDST_MRTG_ACT_OPN  (140.2417, 140.241702]  1243     176   \n",
            "4  M_SNC_OLDST_MRTG_ACT_OPN     (140.241702, 172.0]   739     203   \n",
            "5  M_SNC_OLDST_MRTG_ACT_OPN          (172.0, 475.0]   989     368   \n",
            "\n",
            "   % of Events  Non-Events  % of Non-Events       WoE        IV  \n",
            "0     0.105289         797         0.099912  0.052418  0.000282  \n",
            "1     0.135937         731         0.091638  0.394338  0.017469  \n",
            "2     0.389521        4225         0.529648 -0.307296  0.043060  \n",
            "3     0.087000        1067         0.133760 -0.430141  0.020113  \n",
            "4     0.100346         536         0.067193  0.401053  0.013296  \n",
            "5     0.181908         621         0.077849  0.848733  0.088318  \n",
            "Information value of M_SNC_MSTRCNT_MRTG_ACT_UPD is 0.024245\n",
            "                     Variable                   Cutoff     N  Events  \\\n",
            "0  M_SNC_MSTRCNT_MRTG_ACT_UPD     (-1e-08, 0.66849315]  2773     590   \n",
            "1  M_SNC_MSTRCNT_MRTG_ACT_UPD  (0.66849315, 0.6684932]  5870    1082   \n",
            "2  M_SNC_MSTRCNT_MRTG_ACT_UPD         (0.6684932, 1.0]  1128     297   \n",
            "3  M_SNC_MSTRCNT_MRTG_ACT_UPD              (1.0, 51.0]   229      54   \n",
            "\n",
            "   % of Events  Non-Events  % of Non-Events       WoE        IV  \n",
            "0     0.291646        2183         0.273662  0.063648  0.001145  \n",
            "1     0.534849        4788         0.600226 -0.115321  0.007539  \n",
            "2     0.146812         831         0.104175  0.343083  0.014628  \n",
            "3     0.026693         175         0.021938  0.196179  0.000933  \n",
            "Information value of M_SNC_MST_RCNT_MRTG_DEAL is 0.00689\n",
            "                   Variable                 Cutoff     N  Events  % of Events  \\\n",
            "0  M_SNC_MST_RCNT_MRTG_DEAL     (-1e-06, 26.65193]  7829    1588     0.784973   \n",
            "1  M_SNC_MST_RCNT_MRTG_DEAL  (26.65193, 26.651934]  1847     347     0.171527   \n",
            "2  M_SNC_MST_RCNT_MRTG_DEAL      (26.651934, 81.0]   324      88     0.043500   \n",
            "\n",
            "   Non-Events  % of Non-Events       WoE        IV  \n",
            "0        6241         0.782374  0.003316  0.000009  \n",
            "1        1500         0.188041 -0.091915  0.001518  \n",
            "2         236         0.029585  0.385486  0.005364  \n",
            "Information value of N30D_ORWRS_RTNG_MRTG_ACTS is 0.0\n",
            "                    Variable          Cutoff      N  Events  % of Events  \\\n",
            "0  N30D_ORWRS_RTNG_MRTG_ACTS  (-0.001, 65.0]  10000    2023          1.0   \n",
            "\n",
            "   Non-Events  % of Non-Events  WoE   IV  \n",
            "0        7977              1.0  0.0  0.0  \n",
            "Information value of N_OF_MRTG_ACTS_DLINQ_24M is 0.0\n",
            "                   Variable          Cutoff      N  Events  % of Events  \\\n",
            "0  N_OF_MRTG_ACTS_DLINQ_24M  (-0.001, 39.0]  10000    2023          1.0   \n",
            "\n",
            "   Non-Events  % of Non-Events  WoE   IV  \n",
            "0        7977              1.0  0.0  0.0  \n",
            "Information value of N_SATISFY_PRSNL_FNC_ACTS is 0.025255\n",
            "                   Variable         Cutoff     N  Events  % of Events  \\\n",
            "0  N_SATISFY_PRSNL_FNC_ACTS  (-0.001, 1.0]  9216    1791     0.885319   \n",
            "1  N_SATISFY_PRSNL_FNC_ACTS    (1.0, 10.0]   784     232     0.114681   \n",
            "\n",
            "   Non-Events  % of Non-Events       WoE        IV  \n",
            "0        7425         0.930801 -0.050098  0.002279  \n",
            "1         552         0.069199  0.505170  0.022976  \n",
            "Information value of RATIO_PRSNL_FNC_BAL2HICRDT is 0.012798\n",
            "                     Variable                 Cutoff     N  Events  \\\n",
            "0  RATIO_PRSNL_FNC_BAL2HICRDT    (-1e-06, 52.198677]  2562     591   \n",
            "1  RATIO_PRSNL_FNC_BAL2HICRDT  (52.198677, 52.19868]  6383    1205   \n",
            "2  RATIO_PRSNL_FNC_BAL2HICRDT       (52.19868, 57.2]    56      12   \n",
            "3  RATIO_PRSNL_FNC_BAL2HICRDT          (57.2, 188.7]   999     215   \n",
            "\n",
            "   % of Events  Non-Events  % of Non-Events       WoE        IV  \n",
            "0     0.292140        1971         0.247085  0.167501  0.007547  \n",
            "1     0.595650        5178         0.649116 -0.085958  0.004596  \n",
            "2     0.005932          44         0.005516  0.072698  0.000030  \n",
            "3     0.106278         784         0.098283  0.078210  0.000625  \n",
            "Information value of TOT_OTHRFIN_HICRDT_CRDTLMT is 0.066008\n",
            "                     Variable                Cutoff     N  Events  \\\n",
            "0  TOT_OTHRFIN_HICRDT_CRDTLMT      (-0.001, 2500.0]  8011    1458   \n",
            "1  TOT_OTHRFIN_HICRDT_CRDTLMT     (2500.0, 21009.7]   989     318   \n",
            "2  TOT_OTHRFIN_HICRDT_CRDTLMT  (21009.7, 1755100.0]  1000     247   \n",
            "\n",
            "   % of Events  Non-Events  % of Non-Events       WoE        IV  \n",
            "0     0.720712        6553         0.821487 -0.130876  0.013189  \n",
            "1     0.157192         671         0.084117  0.625263  0.045691  \n",
            "2     0.122096         753         0.094396  0.257304  0.007127  \n",
            "Information value of N_SATISFY_OIL_NATIONL_ACTS is 0.04965\n",
            "                     Variable  Cutoff     N  Events  % of Events  Non-Events  \\\n",
            "0  N_SATISFY_OIL_NATIONL_ACTS       0  9556    1852     0.915472        7704   \n",
            "1  N_SATISFY_OIL_NATIONL_ACTS       1   400     150     0.074147         250   \n",
            "2  N_SATISFY_OIL_NATIONL_ACTS       2    34      15     0.007415          19   \n",
            "3  N_SATISFY_OIL_NATIONL_ACTS       3    10       6     0.002966           4   \n",
            "\n",
            "   % of Non-Events       WoE        IV  \n",
            "0         0.965777 -0.053493  0.002691  \n",
            "1         0.031340  0.861155  0.036864  \n",
            "2         0.002382  1.135592  0.005715  \n",
            "3         0.000501  1.777446  0.004380  \n",
            "Information value of M_SNCOLDST_OIL_NTN_TRD_OPN is 0.042454\n",
            "                     Variable              Cutoff     N  Events  % of Events  \\\n",
            "0  M_SNCOLDST_OIL_NTN_TRD_OPN    (0.999, 187.545]  2230     459     0.226891   \n",
            "1  M_SNCOLDST_OIL_NTN_TRD_OPN  (187.545, 187.546]  7516    1454     0.718735   \n",
            "2  M_SNCOLDST_OIL_NTN_TRD_OPN    (187.546, 799.0]   254     110     0.054375   \n",
            "\n",
            "   Non-Events  % of Non-Events       WoE        IV  \n",
            "0        1771         0.222013  0.021731  0.000106  \n",
            "1        6062         0.759935 -0.055741  0.002297  \n",
            "2         144         0.018052  1.102648  0.040051  \n",
            "Information value of N_BC_ACTS_OPN_IN_12M is 0.040533\n",
            "               Variable         Cutoff     N  Events  % of Events  Non-Events  \\\n",
            "0  N_BC_ACTS_OPN_IN_12M  (-0.001, 1.0]  9243    1777     0.878398        7466   \n",
            "1  N_BC_ACTS_OPN_IN_12M    (1.0, 11.0]   757     246     0.121602         511   \n",
            "\n",
            "   % of Non-Events       WoE        IV  \n",
            "0         0.935941 -0.063452  0.003651  \n",
            "1         0.064059  0.640943  0.036881  \n",
            "Information value of N_BC_ACTS_OPN_IN_24M is 0.106883\n",
            "               Variable         Cutoff     N  Events  % of Events  Non-Events  \\\n",
            "0  N_BC_ACTS_OPN_IN_24M  (-0.001, 1.0]  8293    1466     0.724666        6827   \n",
            "1  N_BC_ACTS_OPN_IN_24M     (1.0, 2.0]   903     289     0.142857         614   \n",
            "2  N_BC_ACTS_OPN_IN_24M    (2.0, 17.0]   804     268     0.132477         536   \n",
            "\n",
            "   % of Non-Events       WoE        IV  \n",
            "0         0.855836 -0.166367  0.021822  \n",
            "1         0.076971  0.618413  0.040745  \n",
            "2         0.067193  0.678834  0.044317  \n",
            "Information value of AVG_BAL_ALL_PRM_BC_ACTS is 0.377132\n",
            "                  Variable                 Cutoff     N  Events  % of Events  \\\n",
            "0  AVG_BAL_ALL_PRM_BC_ACTS        (-0.0001, 53.0]  1001     376     0.185863   \n",
            "1  AVG_BAL_ALL_PRM_BC_ACTS          (53.0, 619.8]   999     402     0.198715   \n",
            "2  AVG_BAL_ALL_PRM_BC_ACTS      (619.8, 2518.654]  5679     829     0.409787   \n",
            "3  AVG_BAL_ALL_PRM_BC_ACTS  (2518.654, 2518.6542]  1209     119     0.058824   \n",
            "4  AVG_BAL_ALL_PRM_BC_ACTS    (2518.6542, 3127.7]   112      41     0.020267   \n",
            "5  AVG_BAL_ALL_PRM_BC_ACTS      (3127.7, 55230.0]  1000     256     0.126545   \n",
            "\n",
            "   Non-Events  % of Non-Events       WoE        IV  \n",
            "0         625         0.078350  0.863818  0.092871  \n",
            "1         597         0.074840  0.976516  0.120966  \n",
            "2        4850         0.607998 -0.394533  0.078201  \n",
            "3        1090         0.136643 -0.842829  0.065588  \n",
            "4          71         0.008901  0.822873  0.009353  \n",
            "5         744         0.093268  0.305117  0.010153  \n",
            "Information value of N_RETAIL_ACTS_OPN_IN_24M is 0.046297\n",
            "                   Variable  Cutoff     N  Events  % of Events  Non-Events  \\\n",
            "0  N_RETAIL_ACTS_OPN_IN_24M       0  8336    1560     0.771132        6776   \n",
            "1  N_RETAIL_ACTS_OPN_IN_24M       1  1147     315     0.155709         832   \n",
            "2  N_RETAIL_ACTS_OPN_IN_24M       2   352     108     0.053386         244   \n",
            "3  N_RETAIL_ACTS_OPN_IN_24M       3   121      29     0.014335          92   \n",
            "4  N_RETAIL_ACTS_OPN_IN_24M       4    24       6     0.002966          18   \n",
            "5  N_RETAIL_ACTS_OPN_IN_24M       5    11       1     0.000494          10   \n",
            "6  N_RETAIL_ACTS_OPN_IN_24M       6     4       3     0.001483           1   \n",
            "7  N_RETAIL_ACTS_OPN_IN_24M       7     3       0     0.000247           3   \n",
            "8  N_RETAIL_ACTS_OPN_IN_24M       8     2       1     0.000494           1   \n",
            "\n",
            "   % of Non-Events       WoE        IV  \n",
            "0         0.849442 -0.096720  0.007574  \n",
            "1         0.104300  0.400721  0.020601  \n",
            "2         0.030588  0.556944  0.012697  \n",
            "3         0.011533  0.217488  0.000609  \n",
            "4         0.002256  0.273369  0.000194  \n",
            "5         0.001254 -0.930604  0.000707  \n",
            "6         0.000125  2.470593  0.003354  \n",
            "7         0.000376 -0.419779  0.000054  \n",
            "8         0.000125  1.371981  0.000506  \n",
            "Information value of M_SNC_OLDST_RETAIL_ACT_OPN is 0.49424\n",
            "                     Variable                 Cutoff     N  Events  \\\n",
            "0  M_SNC_OLDST_RETAIL_ACT_OPN         (-1e-05, 60.0]  1020     206   \n",
            "1  M_SNC_OLDST_RETAIL_ACT_OPN          (60.0, 100.0]  1008     259   \n",
            "2  M_SNC_OLDST_RETAIL_ACT_OPN         (100.0, 143.0]   975     243   \n",
            "3  M_SNC_OLDST_RETAIL_ACT_OPN     (143.0, 165.62709]  1270     171   \n",
            "4  M_SNC_OLDST_RETAIL_ACT_OPN  (165.62709, 165.6271]  3758     367   \n",
            "5  M_SNC_OLDST_RETAIL_ACT_OPN      (165.6271, 278.0]   975     319   \n",
            "6  M_SNC_OLDST_RETAIL_ACT_OPN         (278.0, 741.0]   994     458   \n",
            "\n",
            "   % of Events  Non-Events  % of Non-Events       WoE            IV  \n",
            "0     0.101829         814         0.102043 -0.002103  4.509756e-07  \n",
            "1     0.128028         749         0.093895  0.310070  1.058353e-02  \n",
            "2     0.120119         732         0.091764  0.269262  7.634868e-03  \n",
            "3     0.084528        1099         0.137771 -0.488512  2.600990e-02  \n",
            "4     0.181414        3391         0.425097 -0.851537  2.075056e-01  \n",
            "5     0.157687         656         0.082236  0.651011  4.911891e-02  \n",
            "6     0.226396         536         0.067193  1.214716  1.933867e-01  \n",
            "Information value of RATIO_RETAIL_BAL2HI_CRDT is 0.342756\n",
            "                   Variable                 Cutoff     N  Events  % of Events  \\\n",
            "0  RATIO_RETAIL_BAL2HI_CRDT          (-1e-06, 9.8]  3001    1029     0.508651   \n",
            "1  RATIO_RETAIL_BAL2HI_CRDT       (9.8, 11.252956]  1274     154     0.076125   \n",
            "2  RATIO_RETAIL_BAL2HI_CRDT  (11.252956, 11.25296]  4922     648     0.320316   \n",
            "3  RATIO_RETAIL_BAL2HI_CRDT      (11.25296, 443.0]   803     192     0.094909   \n",
            "\n",
            "   Non-Events  % of Non-Events       WoE        IV  \n",
            "0        1972         0.247211  0.721520  0.188634  \n",
            "1        1120         0.140404 -0.612151  0.039348  \n",
            "2        4274         0.535790 -0.514434  0.110847  \n",
            "3         611         0.076595  0.214379  0.003926  \n",
            "Information value of TOT_BAL_ALL_DPT_STORE_ACTS is 0.03084\n",
            "                     Variable            Cutoff     N  Events  % of Events  \\\n",
            "0  TOT_BAL_ALL_DPT_STORE_ACTS   (-0.001, 123.0]  9002    1731      0.85566   \n",
            "1  TOT_BAL_ALL_DPT_STORE_ACTS  (123.0, 16997.0]   998     292      0.14434   \n",
            "\n",
            "   Non-Events  % of Non-Events       WoE       IV  \n",
            "0        7271         0.911496 -0.063214  0.00353  \n",
            "1         706         0.088504  0.489119  0.02731  \n",
            "Information value of N_30D_RATINGS is 0.020261\n",
            "        Variable         Cutoff     N  Events  % of Events  Non-Events  \\\n",
            "0  N_30D_RATINGS  (-0.001, 2.0]  8328    1599     0.790410        6729   \n",
            "1  N_30D_RATINGS     (2.0, 6.0]   741     201     0.099357         540   \n",
            "2  N_30D_RATINGS    (6.0, 95.0]   931     223     0.110232         708   \n",
            "\n",
            "   % of Non-Events       WoE        IV  \n",
            "0         0.843550 -0.065067  0.003458  \n",
            "1         0.067695  0.383717  0.012150  \n",
            "2         0.088755  0.216709  0.004654  \n",
            "Information value of N_120D_RATINGS is 0.0\n",
            "         Variable           Cutoff      N  Events  % of Events  Non-Events  \\\n",
            "0  N_120D_RATINGS  (-0.001, 211.0]  10000    2023          1.0        7977   \n",
            "\n",
            "   % of Non-Events  WoE   IV  \n",
            "0              1.0  0.0  0.0  \n",
            "Information value of N_30D_AND_60D_RATINGS is 0.020362\n",
            "                Variable         Cutoff     N  Events  % of Events  \\\n",
            "0  N_30D_AND_60D_RATINGS  (-0.001, 1.0]  7612    1441     0.712308   \n",
            "1  N_30D_AND_60D_RATINGS     (1.0, 2.0]   461     111     0.054869   \n",
            "2  N_30D_AND_60D_RATINGS     (2.0, 8.0]  1000     254     0.125556   \n",
            "3  N_30D_AND_60D_RATINGS   (8.0, 129.0]   927     217     0.107266   \n",
            "\n",
            "   Non-Events  % of Non-Events       WoE        IV  \n",
            "0        6171         0.773599 -0.082543  0.005059  \n",
            "1         350         0.043876  0.223578  0.002458  \n",
            "2         746         0.093519  0.294590  0.009438  \n",
            "3         710         0.089006  0.186613  0.003408  \n",
            "Information value of N_ACTS_WITH_MXD_3_IN_24M is 0.006237\n",
            "                   Variable  Cutoff     N  Events  % of Events  Non-Events  \\\n",
            "0  N_ACTS_WITH_MXD_3_IN_24M       0  9391    1877     0.927830        7514   \n",
            "1  N_ACTS_WITH_MXD_3_IN_24M       1   451     114     0.056352         337   \n",
            "2  N_ACTS_WITH_MXD_3_IN_24M       2   109      26     0.012852          83   \n",
            "3  N_ACTS_WITH_MXD_3_IN_24M       3    32       5     0.002472          27   \n",
            "4  N_ACTS_WITH_MXD_3_IN_24M       4    12       1     0.000494          11   \n",
            "5  N_ACTS_WITH_MXD_3_IN_24M       5     1       0     0.000247           1   \n",
            "6  N_ACTS_WITH_MXD_3_IN_24M       6     1       0     0.000247           1   \n",
            "7  N_ACTS_WITH_MXD_3_IN_24M       7     1       0     0.000247           1   \n",
            "8  N_ACTS_WITH_MXD_3_IN_24M       8     2       0     0.000247           2   \n",
            "\n",
            "   % of Non-Events       WoE            IV  \n",
            "0         0.941958 -0.015112  2.135099e-04  \n",
            "1         0.042246  0.288096  4.063741e-03  \n",
            "2         0.010405  0.211237  5.169567e-04  \n",
            "3         0.003385 -0.314418  2.871122e-04  \n",
            "4         0.001379 -1.025914  9.075743e-04  \n",
            "5         0.000125  0.678834  8.268009e-05  \n",
            "6         0.000125  0.678834  8.268009e-05  \n",
            "7         0.000125  0.678834  8.268009e-05  \n",
            "8         0.000251 -0.014314  5.100101e-08  \n",
            "Information value of N_ACTS_WITH_MXD_4_IN_24M is 0.001798\n",
            "                   Variable  Cutoff     N  Events  % of Events  Non-Events  \\\n",
            "0  N_ACTS_WITH_MXD_4_IN_24M       0  9639    1953     0.965398        7686   \n",
            "1  N_ACTS_WITH_MXD_4_IN_24M       1   278      53     0.026199         225   \n",
            "2  N_ACTS_WITH_MXD_4_IN_24M       2    56      13     0.006426          43   \n",
            "3  N_ACTS_WITH_MXD_4_IN_24M       3    14       2     0.000989          12   \n",
            "4  N_ACTS_WITH_MXD_4_IN_24M       4     7       1     0.000494           6   \n",
            "5  N_ACTS_WITH_MXD_4_IN_24M       5     2       0     0.000247           2   \n",
            "6  N_ACTS_WITH_MXD_4_IN_24M       7     1       0     0.000247           1   \n",
            "7  N_ACTS_WITH_MXD_4_IN_24M       8     1       0     0.000247           1   \n",
            "8  N_ACTS_WITH_MXD_4_IN_24M       9     1       0     0.000247           1   \n",
            "9  N_ACTS_WITH_MXD_4_IN_24M      17     1       1     0.000494           0   \n",
            "\n",
            "   % of Non-Events       WoE            IV  \n",
            "0         0.963520  0.001947  3.656088e-06  \n",
            "1         0.028206 -0.073828  1.482000e-04  \n",
            "2         0.005390  0.175730  1.819865e-04  \n",
            "3         0.001504 -0.419779  2.164774e-04  \n",
            "4         0.000752 -0.419779  1.082387e-04  \n",
            "5         0.000251 -0.014314  5.100101e-08  \n",
            "6         0.000125  0.678834  8.268009e-05  \n",
            "7         0.000125  0.678834  8.268009e-05  \n",
            "8         0.000125  0.678834  8.268009e-05  \n",
            "9         0.000063  2.065128  8.913819e-04  \n",
            "Information value of PRCNT_OF_ACTS_NEVER_DLQNT is 0.516452\n",
            "                    Variable                 Cutoff     N  Events  \\\n",
            "0  PRCNT_OF_ACTS_NEVER_DLQNT         (-1e-06, 37.5]  1014      62   \n",
            "1  PRCNT_OF_ACTS_NEVER_DLQNT           (37.5, 70.0]   998     188   \n",
            "2  PRCNT_OF_ACTS_NEVER_DLQNT       (70.0, 80.81856]  1730     152   \n",
            "3  PRCNT_OF_ACTS_NEVER_DLQNT  (80.81856, 80.818563]   348       3   \n",
            "4  PRCNT_OF_ACTS_NEVER_DLQNT      (80.818563, 92.3]   951     307   \n",
            "5  PRCNT_OF_ACTS_NEVER_DLQNT           (92.3, 98.0]   968     338   \n",
            "6  PRCNT_OF_ACTS_NEVER_DLQNT          (98.0, 100.0]  3991     973   \n",
            "\n",
            "   % of Events  Non-Events  % of Non-Events       WoE        IV  \n",
            "0     0.030648         952         0.119343 -1.359450  0.120577  \n",
            "1     0.092931         810         0.101542 -0.088611  0.000763  \n",
            "2     0.075136        1578         0.197819 -0.968052  0.118763  \n",
            "3     0.001483         345         0.043249 -3.372951  0.140876  \n",
            "4     0.151755         644         0.080732  0.631130  0.044825  \n",
            "5     0.167079         630         0.078977  0.749307  0.066015  \n",
            "6     0.480969        3018         0.378338  0.240015  0.024633  \n",
            "Information value of N_ACTS_90D_PLS_LTE_IN_6M is 0.0\n",
            "                   Variable          Cutoff      N  Events  % of Events  \\\n",
            "0  N_ACTS_90D_PLS_LTE_IN_6M  (-0.001, 14.0]  10000    2023          1.0   \n",
            "\n",
            "   Non-Events  % of Non-Events  WoE   IV  \n",
            "0        7977              1.0  0.0  0.0  \n",
            "Information value of TOT_NOW_LTE is 0.0\n",
            "      Variable             Cutoff      N  Events  % of Events  Non-Events  \\\n",
            "0  TOT_NOW_LTE  (-0.001, 69074.0]  10000    2023          1.0        7977   \n",
            "\n",
            "   % of Non-Events  WoE   IV  \n",
            "0              1.0  0.0  0.0  \n",
            "Information value of N_DEROG_PUB_RECS is 0.000242\n",
            "           Variable         Cutoff     N  Events  % of Events  Non-Events  \\\n",
            "0  N_DEROG_PUB_RECS  (-0.001, 1.0]  9561    1929     0.953534        7632   \n",
            "1  N_DEROG_PUB_RECS    (1.0, 49.0]   439      94     0.046466         345   \n",
            "\n",
            "   % of Non-Events       WoE        IV  \n",
            "0         0.956751 -0.003367  0.000011  \n",
            "1         0.043249  0.071731  0.000231  \n",
            "Information value of N_INQUIRIES is 0.014663\n",
            "      Variable         Cutoff     N  Events  % of Events  Non-Events  \\\n",
            "0  N_INQUIRIES  (-0.001, 1.0]  5869    1109     0.548196        4760   \n",
            "1  N_INQUIRIES     (1.0, 2.0]  1064     231     0.114187         833   \n",
            "2  N_INQUIRIES     (2.0, 3.0]   713     151     0.074642         562   \n",
            "3  N_INQUIRIES     (3.0, 4.0]   479      96     0.047454         383   \n",
            "4  N_INQUIRIES     (4.0, 8.0]  1054     224     0.110727         830   \n",
            "5  N_INQUIRIES    (8.0, 57.0]   821     212     0.104795         609   \n",
            "\n",
            "   % of Non-Events       WoE        IV  \n",
            "0         0.596716 -0.084808  0.004115  \n",
            "1         0.104425  0.089365  0.000872  \n",
            "2         0.070453  0.057759  0.000242  \n",
            "3         0.048013 -0.011706  0.000007  \n",
            "4         0.104049  0.062201  0.000415  \n",
            "5         0.076344  0.316749  0.009012  \n",
            "Information value of N_FNC_ACTS_VRFY_IN_12M is 0.0899\n",
            "                 Variable         Cutoff     N  Events  % of Events  \\\n",
            "0  N_FNC_ACTS_VRFY_IN_12M  (-0.001, 1.0]  7792    1367     0.675729   \n",
            "1  N_FNC_ACTS_VRFY_IN_12M     (1.0, 2.0]  1110     331     0.163618   \n",
            "2  N_FNC_ACTS_VRFY_IN_12M     (2.0, 3.0]   572     160     0.079090   \n",
            "3  N_FNC_ACTS_VRFY_IN_12M    (3.0, 12.0]   526     165     0.081562   \n",
            "\n",
            "   Non-Events  % of Non-Events       WoE        IV  \n",
            "0        6425         0.805441 -0.175597  0.022777  \n",
            "1         779         0.097656  0.516088  0.034043  \n",
            "2         412         0.051648  0.426131  0.011694  \n",
            "3         361         0.045255  0.589048  0.021387  \n",
            "Information value of N_OPEN_REV_ACTS is 0.815513\n",
            "          Variable         Cutoff     N  Events  % of Events  Non-Events  \\\n",
            "0  N_OPEN_REV_ACTS  (-0.001, 1.0]  4255     250     0.123579        4005   \n",
            "1  N_OPEN_REV_ACTS     (1.0, 3.0]  1298     279     0.137914        1019   \n",
            "2  N_OPEN_REV_ACTS     (3.0, 4.0]   599     154     0.076125         445   \n",
            "3  N_OPEN_REV_ACTS     (4.0, 6.0]  1023     317     0.156698         706   \n",
            "4  N_OPEN_REV_ACTS     (6.0, 9.0]  1153     378     0.186851         775   \n",
            "5  N_OPEN_REV_ACTS    (9.0, 12.0]   738     248     0.122590         490   \n",
            "6  N_OPEN_REV_ACTS   (12.0, 53.0]   934     397     0.196243         537   \n",
            "\n",
            "   % of Non-Events       WoE        IV  \n",
            "0         0.502068 -1.401857  0.530588  \n",
            "1         0.127742  0.076616  0.000779  \n",
            "2         0.055785  0.310859  0.006323  \n",
            "3         0.088504  0.571267  0.038957  \n",
            "4         0.097154  0.654012  0.058663  \n",
            "5         0.061427  0.691004  0.042264  \n",
            "6         0.067319  1.069919  0.137939  \n",
            "Information value of N_FNC_ACTS_OPN_IN_12M is 0.007475\n",
            "                Variable         Cutoff     N  Events  % of Events  \\\n",
            "0  N_FNC_ACTS_OPN_IN_12M  (-0.001, 1.0]  9448    1878     0.928324   \n",
            "1  N_FNC_ACTS_OPN_IN_12M    (1.0, 18.0]   552     145     0.071676   \n",
            "\n",
            "   Non-Events  % of Non-Events       WoE        IV  \n",
            "0        7570         0.948978 -0.022005  0.000454  \n",
            "1         407         0.051022  0.339901  0.007020  \n",
            "Information value of HI_RETAIL_CRDT_LMT is 0.338618\n",
            "             Variable             Cutoff     N  Events  % of Events  \\\n",
            "0  HI_RETAIL_CRDT_LMT    (-0.001, 700.0]  7006     975     0.481957   \n",
            "1  HI_RETAIL_CRDT_LMT    (700.0, 2000.0]  1321     412     0.203658   \n",
            "2  HI_RETAIL_CRDT_LMT   (2000.0, 4000.0]   800     297     0.146812   \n",
            "3  HI_RETAIL_CRDT_LMT  (4000.0, 39773.0]   873     339     0.167573   \n",
            "\n",
            "   Non-Events  % of Non-Events       WoE        IV  \n",
            "0        6031         0.756049 -0.450250  0.123409  \n",
            "1         909         0.113953  0.580659  0.052088  \n",
            "2         503         0.063056  0.845123  0.070784  \n",
            "3         534         0.066942  0.917585  0.092337  \n",
            "Information value of N_PUB_REC_ACT_LINE_DEROGS is 0.035915\n",
            "                    Variable         Cutoff     N  Events  % of Events  \\\n",
            "0  N_PUB_REC_ACT_LINE_DEROGS  (-0.001, 1.0]  7786    1694     0.837370   \n",
            "1  N_PUB_REC_ACT_LINE_DEROGS     (1.0, 2.0]   521      77     0.038062   \n",
            "2  N_PUB_REC_ACT_LINE_DEROGS     (2.0, 5.0]   840     136     0.067227   \n",
            "3  N_PUB_REC_ACT_LINE_DEROGS    (5.0, 58.0]   853     116     0.057341   \n",
            "\n",
            "   Non-Events  % of Non-Events       WoE        IV  \n",
            "0        6092         0.763696  0.092097  0.006785  \n",
            "1         444         0.055660 -0.380038  0.006688  \n",
            "2         704         0.088254 -0.272143  0.005722  \n",
            "3         737         0.092391 -0.477017  0.016719  \n",
            "Information value of M_SNC_MST_RCNT_60_DAY_RTNG is 0.010143\n",
            "                     Variable                 Cutoff     N  Events  \\\n",
            "0  M_SNC_MST_RCNT_60_DAY_RTNG          (-1e-06, 5.0]  1072     181   \n",
            "1  M_SNC_MST_RCNT_60_DAY_RTNG        (5.0, 20.88028]  6317    1291   \n",
            "2  M_SNC_MST_RCNT_60_DAY_RTNG  (20.88028, 20.880283]  1429     275   \n",
            "3  M_SNC_MST_RCNT_60_DAY_RTNG      (20.880283, 27.0]   212      54   \n",
            "4  M_SNC_MST_RCNT_60_DAY_RTNG           (27.0, 82.0]   970     222   \n",
            "\n",
            "   % of Events  Non-Events  % of Non-Events       WoE        IV  \n",
            "0     0.089471         891         0.111696 -0.221867  0.004931  \n",
            "1     0.638161        5026         0.630061  0.012774  0.000103  \n",
            "2     0.135937        1154         0.144666 -0.062238  0.000543  \n",
            "3     0.026693         158         0.019807  0.298370  0.002055  \n",
            "4     0.109738         748         0.093770  0.157255  0.002511  \n",
            "Information value of AUTO_HI_CRDT_2_ACTUAL is 0.000395\n",
            "                Variable             Cutoff     N  Events  % of Events  \\\n",
            "0  AUTO_HI_CRDT_2_ACTUAL   (-0.001, 6193.5]  9000    1811     0.895205   \n",
            "1  AUTO_HI_CRDT_2_ACTUAL  (6193.5, 71331.0]  1000     212     0.104795   \n",
            "\n",
            "   Non-Events  % of Non-Events       WoE        IV  \n",
            "0        7189         0.901216 -0.006692  0.000040  \n",
            "1         788         0.098784  0.059069  0.000355  \n",
            "Information value of MRTG_1_MONTHLY_PAYMENT is 0.016079\n",
            "                 Variable              Cutoff     N  Events  % of Events  \\\n",
            "0  MRTG_1_MONTHLY_PAYMENT     (-0.001, 231.3]  7000    1371     0.677706   \n",
            "1  MRTG_1_MONTHLY_PAYMENT      (231.3, 589.2]  1000     255     0.126050   \n",
            "2  MRTG_1_MONTHLY_PAYMENT     (589.2, 1094.0]  1001     224     0.110727   \n",
            "3  MRTG_1_MONTHLY_PAYMENT  (1094.0, 221054.0]   999     173     0.085517   \n",
            "\n",
            "   Non-Events  % of Non-Events       WoE        IV  \n",
            "0        5629         0.705654 -0.040411  0.001129  \n",
            "1         745         0.093394  0.299860  0.009793  \n",
            "2         777         0.097405  0.128187  0.001708  \n",
            "3         826         0.103548 -0.191322  0.003450  \n",
            "Information value of MRTG_2_CURRENT_BAL is 0.0\n",
            "             Variable               Cutoff      N  Events  % of Events  \\\n",
            "0  MRTG_2_CURRENT_BAL  (-0.001, 1300000.0]  10000    2023          1.0   \n",
            "\n",
            "   Non-Events  % of Non-Events  WoE   IV  \n",
            "0        7977              1.0  0.0  0.0  \n",
            "Information value of PREM_BANKCARD_CRED_LMT is 0.07895\n",
            "                 Variable               Cutoff     N  Events  % of Events  \\\n",
            "0  PREM_BANKCARD_CRED_LMT    (-0.001, 10000.0]  7261    1267     0.626298   \n",
            "1  PREM_BANKCARD_CRED_LMT   (10000.0, 12500.0]   793     239     0.118141   \n",
            "2  PREM_BANKCARD_CRED_LMT   (12500.0, 17300.0]   953     276     0.136431   \n",
            "3  PREM_BANKCARD_CRED_LMT  (17300.0, 600000.0]   993     241     0.119130   \n",
            "\n",
            "   Non-Events  % of Non-Events       WoE        IV  \n",
            "0        5994         0.751410 -0.182126  0.022786  \n",
            "1         554         0.069450  0.531280  0.025869  \n",
            "2         677         0.084869  0.474710  0.024477  \n",
            "3         752         0.094271  0.234041  0.005818  \n",
            "Information value of STUDENT_HI_CRED_RANGE is 0.056063\n",
            "                Variable  Cutoff     N  Events  % of Events  Non-Events  \\\n",
            "0  STUDENT_HI_CRED_RANGE       0  9241    1947     0.962432        7294   \n",
            "1  STUDENT_HI_CRED_RANGE       1     6       0     0.000247           6   \n",
            "2  STUDENT_HI_CRED_RANGE       2    14       1     0.000494          13   \n",
            "3  STUDENT_HI_CRED_RANGE       3   156       8     0.003955         148   \n",
            "4  STUDENT_HI_CRED_RANGE       4   131       9     0.004449         122   \n",
            "5  STUDENT_HI_CRED_RANGE       5   103       9     0.004449          94   \n",
            "6  STUDENT_HI_CRED_RANGE       6    91      14     0.006920          77   \n",
            "7  STUDENT_HI_CRED_RANGE       7    98      12     0.005932          86   \n",
            "8  STUDENT_HI_CRED_RANGE       8    56      12     0.005932          44   \n",
            "9  STUDENT_HI_CRED_RANGE       9   104      11     0.005437          93   \n",
            "\n",
            "   % of Non-Events       WoE        IV  \n",
            "0         0.914379  0.051218  0.002461  \n",
            "1         0.000752 -1.112926  0.000562  \n",
            "2         0.001630 -1.192969  0.001354  \n",
            "3         0.018553 -1.545790  0.022567  \n",
            "4         0.015294 -1.234816  0.013392  \n",
            "5         0.011784 -0.974089  0.007145  \n",
            "6         0.009653 -0.332767  0.000909  \n",
            "7         0.010781 -0.597460  0.002897  \n",
            "8         0.005516  0.072698  0.000030  \n",
            "9         0.011659 -0.762723  0.004745  \n",
            "Information value of AUTO_2_OPEN_DATE_YRS is 0.001691\n",
            "               Variable                  Cutoff     N  Events  % of Events  \\\n",
            "0  AUTO_2_OPEN_DATE_YRS  (-0.8767124, 2.336661]  7636    1556     0.769155   \n",
            "1  AUTO_2_OPEN_DATE_YRS   (2.336661, 2.3366614]  1761     335     0.165596   \n",
            "2  AUTO_2_OPEN_DATE_YRS   (2.3366614, 4.791781]   603     132     0.065250   \n",
            "\n",
            "   Non-Events  % of Non-Events       WoE        IV  \n",
            "0        6080         0.762191  0.009095  0.000063  \n",
            "1        1426         0.178764 -0.076517  0.001008  \n",
            "2         471         0.059045  0.099925  0.000620  \n",
            "Information value of MAX_MRTG_CLOSE_DATE is 0.018936\n",
            "              Variable                  Cutoff     N  Events  % of Events  \\\n",
            "0  MAX_MRTG_CLOSE_DATE  (-0.9614119, 2.123288]  1007     241     0.119130   \n",
            "1  MAX_MRTG_CLOSE_DATE    (2.123288, 3.140672]  6334    1224     0.605042   \n",
            "2  MAX_MRTG_CLOSE_DATE   (3.140672, 3.1406723]  1525     281     0.138903   \n",
            "3  MAX_MRTG_CLOSE_DATE  (3.1406723, 3.6224127]   134      23     0.011369   \n",
            "4  MAX_MRTG_CLOSE_DATE   (3.6224127, 9.624658]  1000     254     0.125556   \n",
            "\n",
            "   Non-Events  % of Non-Events       WoE        IV  \n",
            "0         766         0.096026  0.215596  0.004981  \n",
            "1        5110         0.640592 -0.057094  0.002030  \n",
            "2        1244         0.155948 -0.115752  0.001973  \n",
            "3         111         0.013915 -0.202055  0.000514  \n",
            "4         746         0.093519  0.294590  0.009438  \n",
            "Information value of UPSCALE_OPEN_DATE_YRS is 0.021491\n",
            "                Variable                   Cutoff     N  Events  % of Events  \\\n",
            "0  UPSCALE_OPEN_DATE_YRS  (-0.9614119, 5.7780819]  1000     229     0.113198   \n",
            "1  UPSCALE_OPEN_DATE_YRS   (5.7780819, 7.5359805]  1818     334     0.165101   \n",
            "2  UPSCALE_OPEN_DATE_YRS    (7.5359805, 7.535981]  6550    1279     0.632229   \n",
            "3  UPSCALE_OPEN_DATE_YRS     (7.535981, 56.45205]   632     181     0.089471   \n",
            "\n",
            "   Non-Events  % of Non-Events       WoE        IV  \n",
            "0         771         0.096653  0.158014  0.002614  \n",
            "1        1484         0.186035 -0.119375  0.002499  \n",
            "2        5271         0.660775 -0.044161  0.001261  \n",
            "3         451         0.056538  0.459011  0.015117  \n",
            "Information value of STUDENT_OPEN_DATE_YRS is 0.022514\n",
            "                Variable                     Cutoff     N  Events  \\\n",
            "0  STUDENT_OPEN_DATE_YRS  (-0.99976796, 2.48634097]  2351     412   \n",
            "1  STUDENT_OPEN_DATE_YRS     (2.48634097, 2.486341]  7368    1580   \n",
            "2  STUDENT_OPEN_DATE_YRS       (2.486341, 18.58082]   281      31   \n",
            "\n",
            "   % of Events  Non-Events  % of Non-Events       WoE        IV  \n",
            "0     0.203658        1939         0.243074 -0.176923  0.006974  \n",
            "1     0.781018        5788         0.725586  0.073619  0.004081  \n",
            "2     0.015324         250         0.031340 -0.715493  0.011460  \n",
            "Information value of FNC_CARD_OPEN_DATE_YRS is 0.005848\n",
            "                 Variable                  Cutoff     N  Events  % of Events  \\\n",
            "0  FNC_CARD_OPEN_DATE_YRS  (-0.9614119, 1.281917]  7770    1581     0.781513   \n",
            "1  FNC_CARD_OPEN_DATE_YRS   (1.281917, 1.2819174]  1797     333     0.164607   \n",
            "2  FNC_CARD_OPEN_DATE_YRS   (1.2819174, 15.20479]   433     109     0.053880   \n",
            "\n",
            "   Non-Events  % of Non-Events       WoE        IV  \n",
            "0        6189         0.775856  0.007265  0.000041  \n",
            "1        1464         0.183528 -0.108804  0.002059  \n",
            "2         324         0.040617  0.282585  0.003748  \n",
            "Information value of AGE is 0.006257\n",
            "  Variable          Cutoff     N  Events  % of Events  Non-Events  \\\n",
            "0      AGE  (20.999, 29.0]  1111     236     0.116658         875   \n",
            "1      AGE    (29.0, 35.0]   980     195     0.096391         785   \n",
            "2      AGE    (35.0, 40.0]  1017     206     0.101829         811   \n",
            "3      AGE    (40.0, 44.0]   914     162     0.080079         752   \n",
            "4      AGE    (44.0, 49.0]  1098     241     0.119130         857   \n",
            "5      AGE    (49.0, 54.0]  1028     201     0.099357         827   \n",
            "6      AGE    (54.0, 59.0]   870     179     0.088482         691   \n",
            "7      AGE    (59.0, 67.0]  1100     212     0.104795         888   \n",
            "8      AGE    (67.0, 77.0]   898     200     0.098863         698   \n",
            "9      AGE   (77.0, 100.0]   984     191     0.094414         793   \n",
            "\n",
            "   % of Non-Events       WoE            IV  \n",
            "0         0.109690  0.061589  4.291547e-04  \n",
            "1         0.098408 -0.020703  4.174668e-05  \n",
            "2         0.101667  0.001589  2.568922e-07  \n",
            "3         0.094271 -0.163159  2.315545e-03  \n",
            "4         0.107434  0.103340  1.208677e-03  \n",
            "5         0.103673 -0.042519  1.834977e-04  \n",
            "6         0.086624  0.021227  3.944809e-05  \n",
            "7         0.111320 -0.060405  3.941514e-04  \n",
            "8         0.087502  0.122079  1.387003e-03  \n",
            "9         0.099411 -0.051569  2.576679e-04  \n",
            "Information value of D_DEPTCARD is 0.066843\n",
            "     Variable  Cutoff     N  Events  % of Events  Non-Events  % of Non-Events  \\\n",
            "0  D_DEPTCARD       0  6564    1126     0.556599        5438          0.68171   \n",
            "1  D_DEPTCARD       1  3436     897     0.443401        2539          0.31829   \n",
            "\n",
            "        WoE        IV  \n",
            "0 -0.202759  0.025367  \n",
            "1  0.331511  0.041476  \n",
            "Information value of D_REGION_A is 0.091949\n",
            "     Variable  Cutoff     N  Events  % of Events  Non-Events  % of Non-Events  \\\n",
            "0  D_REGION_A       0  6971    1624     0.802768        5347         0.670302   \n",
            "1  D_REGION_A       1  3029     399     0.197232        2630         0.329698   \n",
            "\n",
            "        WoE        IV  \n",
            "0  0.180337  0.023889  \n",
            "1 -0.513797  0.068061  \n",
            "Information value of D_REGION_B is 0.00182\n",
            "     Variable  Cutoff     N  Events  % of Events  Non-Events  % of Non-Events  \\\n",
            "0  D_REGION_B       0  8088    1663     0.822046        6425         0.805441   \n",
            "1  D_REGION_B       1  1912     360     0.177954        1552         0.194559   \n",
            "\n",
            "        WoE        IV  \n",
            "0  0.020407  0.000339  \n",
            "1 -0.089215  0.001481  \n",
            "Information value of D_REGION_C is 0.00386\n",
            "     Variable  Cutoff     N  Events  % of Events  Non-Events  % of Non-Events  \\\n",
            "0  D_REGION_C       0  7551    1484     0.733564        6067         0.760562   \n",
            "1  D_REGION_C       1  2449     539     0.266436        1910         0.239438   \n",
            "\n",
            "        WoE        IV  \n",
            "0 -0.036142  0.000976  \n",
            "1  0.106838  0.002884  \n",
            "Information value of D_NA_M_SNC_MST_RCNT_ACT_OPN is 0.575277\n",
            "                      Variable  Cutoff     N  Events  % of Events  Non-Events  \\\n",
            "0  D_NA_M_SNC_MST_RCNT_ACT_OPN       0  8452    2003     0.990114        6449   \n",
            "1  D_NA_M_SNC_MST_RCNT_ACT_OPN       1  1548      20     0.009886        1528   \n",
            "\n",
            "   % of Non-Events       WoE        IV  \n",
            "0         0.808449  0.202702  0.036824  \n",
            "1         0.191551 -2.964002  0.538454  \n",
            "Information value of D_NA_AVG_BAL_ALL_FNC_REV_ACTS is 0.19686\n",
            "                        Variable  Cutoff     N  Events  % of Events  \\\n",
            "0  D_NA_AVG_BAL_ALL_FNC_REV_ACTS       0  2541     842     0.416214   \n",
            "1  D_NA_AVG_BAL_ALL_FNC_REV_ACTS       1  7459    1181     0.583786   \n",
            "\n",
            "   Non-Events  % of Non-Events       WoE        IV  \n",
            "0        1699         0.212987  0.669966  0.136155  \n",
            "1        6278         0.787013 -0.298709  0.060706  \n",
            "Information value of D_NA_M_SNCOLDST_BNKINSTL_ACTOPN is 0.137077\n",
            "                          Variable  Cutoff     N  Events  % of Events  \\\n",
            "0  D_NA_M_SNCOLDST_BNKINSTL_ACTOPN       0  3757    1054     0.521008   \n",
            "1  D_NA_M_SNCOLDST_BNKINSTL_ACTOPN       1  6243     969     0.478992   \n",
            "\n",
            "   Non-Events  % of Non-Events       WoE        IV  \n",
            "0        2703         0.338849  0.430211  0.078367  \n",
            "1        5274         0.661151 -0.322299  0.058710  \n",
            "Information value of D_NA_M_SNC_OLDST_MRTG_ACT_OPN is 0.14941\n",
            "                        Variable  Cutoff     N  Events  % of Events  \\\n",
            "0  D_NA_M_SNC_OLDST_MRTG_ACT_OPN       0  3852    1087     0.537321   \n",
            "1  D_NA_M_SNC_OLDST_MRTG_ACT_OPN       1  6148     936     0.462679   \n",
            "\n",
            "   Non-Events  % of Non-Events       WoE        IV  \n",
            "0        2765         0.346622  0.438362  0.083595  \n",
            "1        5212         0.653378 -0.345123  0.065815  \n",
            "Information value of D_NA_M_SNC_MST_RCNT_MRTG_DEAL is 0.005086\n",
            "                        Variable  Cutoff     N  Events  % of Events  \\\n",
            "0  D_NA_M_SNC_MST_RCNT_MRTG_DEAL       0   759     185     0.091448   \n",
            "1  D_NA_M_SNC_MST_RCNT_MRTG_DEAL       1  9241    1838     0.908552   \n",
            "\n",
            "   Non-Events  % of Non-Events       WoE        IV  \n",
            "0         574         0.071957  0.239707  0.004672  \n",
            "1        7403         0.928043 -0.021226  0.000414  \n",
            "Information value of D_NA_RATIO_PRSNL_FNC_BAL2HICRDT is 0.038708\n",
            "                          Variable  Cutoff     N  Events  % of Events  \\\n",
            "0  D_NA_RATIO_PRSNL_FNC_BAL2HICRDT       0  1998     536     0.264953   \n",
            "1  D_NA_RATIO_PRSNL_FNC_BAL2HICRDT       1  8002    1487     0.735047   \n",
            "\n",
            "   Non-Events  % of Non-Events       WoE        IV  \n",
            "0        1462         0.183277  0.368554  0.030102  \n",
            "1        6515         0.816723 -0.105366  0.008606  \n",
            "Information value of D_N_DISPUTED_ACTS is 0.070202\n",
            "            Variable  Cutoff     N  Events  % of Events  Non-Events  \\\n",
            "0  D_N_DISPUTED_ACTS       0  9629    1856     0.917449        7773   \n",
            "1  D_N_DISPUTED_ACTS       1   371     167     0.082551         204   \n",
            "\n",
            "   % of Non-Events       WoE        IV  \n",
            "0         0.974426 -0.060252  0.003433  \n",
            "1         0.025574  1.171855  0.066769  \n",
            "Information value of UNIQUE_ID is 0.005715\n",
            "    Variable              Cutoff     N  Events  % of Events  Non-Events  \\\n",
            "0  UNIQUE_ID     (0.999, 2021.7]  1000     192     0.094909         808   \n",
            "1  UNIQUE_ID    (2021.7, 4084.8]  1000     190     0.093920         810   \n",
            "2  UNIQUE_ID    (4084.8, 6054.4]  1000     197     0.097380         803   \n",
            "3  UNIQUE_ID    (6054.4, 8081.2]  1000     222     0.109738         778   \n",
            "4  UNIQUE_ID   (8081.2, 10056.0]  1000     215     0.106278         785   \n",
            "5  UNIQUE_ID  (10056.0, 12039.6]  1000     194     0.095897         806   \n",
            "6  UNIQUE_ID  (12039.6, 13946.3]  1000     219     0.108255         781   \n",
            "7  UNIQUE_ID  (13946.3, 16001.2]  1000     206     0.101829         794   \n",
            "8  UNIQUE_ID  (16001.2, 18056.1]  1000     185     0.091448         815   \n",
            "9  UNIQUE_ID  (18056.1, 20033.0]  1000     203     0.100346         797   \n",
            "\n",
            "   % of Non-Events       WoE        IV  \n",
            "0         0.101291 -0.065086  0.000415  \n",
            "1         0.101542 -0.078029  0.000595  \n",
            "2         0.100664 -0.033170  0.000109  \n",
            "3         0.097530  0.117932  0.001440  \n",
            "4         0.098408  0.076935  0.000605  \n",
            "5         0.101040 -0.052245  0.000269  \n",
            "6         0.097906  0.100477  0.001040  \n",
            "7         0.099536  0.022774  0.000052  \n",
            "8         0.102169 -0.110851  0.001188  \n",
            "9         0.099912  0.004332  0.000002  \n"
          ]
        }
      ],
      "source": [
        "#Information Value\n",
        "\n",
        "import numpy as np\n",
        "import pandas as pd\n",
        "np.random.seed(100)\n",
        "\n",
        "newDF, woeDF = iv_woe(df_train,'PURCHASE', bins=10, show_woe=True)"
      ]
    },
    {
      "cell_type": "code",
      "execution_count": null,
      "metadata": {
        "id": "l8R6kdu9ZOup",
        "colab": {
          "base_uri": "https://localhost:8080/"
        },
        "outputId": "4535ae0f-7200-4531-82b5-a5f46161b132"
      },
      "outputs": [
        {
          "output_type": "stream",
          "name": "stdout",
          "text": [
            "                           Variable        IV\n",
            "0            M_SNC_MST_RCNT_ACT_OPN  0.502863\n",
            "0              TOT_HI_CRDT_CRDT_LMT  0.886739\n",
            "0              RATIO_BAL_TO_HI_CRDT  0.677171\n",
            "0           AGRGT_BAL_ALL_XCLD_MRTG  0.259798\n",
            "0         N_OF_SATISFY_FNC_REV_ACTS  0.260360\n",
            "..                              ...       ...\n",
            "0     D_NA_M_SNC_OLDST_MRTG_ACT_OPN  0.149410\n",
            "0     D_NA_M_SNC_MST_RCNT_MRTG_DEAL  0.005086\n",
            "0   D_NA_RATIO_PRSNL_FNC_BAL2HICRDT  0.038708\n",
            "0                 D_N_DISPUTED_ACTS  0.070202\n",
            "0                         UNIQUE_ID  0.005715\n",
            "\n",
            "[68 rows x 2 columns]\n"
          ]
        }
      ],
      "source": [
        "print(newDF)"
      ]
    },
    {
      "cell_type": "code",
      "execution_count": null,
      "metadata": {
        "id": "XD1EvLtVZT30",
        "colab": {
          "base_uri": "https://localhost:8080/"
        },
        "outputId": "fedf9747-e193-48e0-bbb3-7e0f0decb41f"
      },
      "outputs": [
        {
          "output_type": "stream",
          "name": "stdout",
          "text": [
            "0             M_SNC_MST_RCNT_ACT_OPN\n",
            "0               TOT_HI_CRDT_CRDT_LMT\n",
            "0               RATIO_BAL_TO_HI_CRDT\n",
            "0            AGRGT_BAL_ALL_XCLD_MRTG\n",
            "0          N_OF_SATISFY_FNC_REV_ACTS\n",
            "0           AVG_BAL_ALL_FNC_REV_ACTS\n",
            "0         M_SNCOLDST_BNKINSTL_ACTOPN\n",
            "0         M_SNC_MSTREC_INSTL_TRD_OPN\n",
            "0           M_SNC_OLDST_MRTG_ACT_OPN\n",
            "0               N_BC_ACTS_OPN_IN_24M\n",
            "0            AVG_BAL_ALL_PRM_BC_ACTS\n",
            "0         M_SNC_OLDST_RETAIL_ACT_OPN\n",
            "0           RATIO_RETAIL_BAL2HI_CRDT\n",
            "0          PRCNT_OF_ACTS_NEVER_DLQNT\n",
            "0                    N_OPEN_REV_ACTS\n",
            "0                 HI_RETAIL_CRDT_LMT\n",
            "0        D_NA_M_SNC_MST_RCNT_ACT_OPN\n",
            "0      D_NA_AVG_BAL_ALL_FNC_REV_ACTS\n",
            "0    D_NA_M_SNCOLDST_BNKINSTL_ACTOPN\n",
            "0      D_NA_M_SNC_OLDST_MRTG_ACT_OPN\n",
            "Name: Variable, dtype: object\n",
            "(20,)\n"
          ]
        }
      ],
      "source": [
        "# Filtering newDF to find variables with IV less than 0.1\n",
        "high_iv_variables = newDF[newDF['IV'] >= 0.1]['Variable']\n",
        "print(high_iv_variables)\n",
        "print(high_iv_variables.shape)"
      ]
    },
    {
      "cell_type": "code",
      "execution_count": null,
      "metadata": {
        "id": "VoYId16CZdkH",
        "colab": {
          "base_uri": "https://localhost:8080/"
        },
        "outputId": "c0474a6f-a7bd-4e26-f27e-42a7656c85c3"
      },
      "outputs": [
        {
          "output_type": "stream",
          "name": "stdout",
          "text": [
            "      M_SNC_MST_RCNT_ACT_OPN  TOT_HI_CRDT_CRDT_LMT  RATIO_BAL_TO_HI_CRDT  \\\n",
            "0                       92.0               24300.0               5.00000   \n",
            "1                        2.0              259300.0               8.30000   \n",
            "2                       23.0               11500.0               0.00000   \n",
            "3                        9.0               33600.0               0.40000   \n",
            "4                      367.0                 200.0               0.00000   \n",
            "...                      ...                   ...                   ...   \n",
            "9995                    78.0                   0.0              36.09828   \n",
            "9996                    83.0                3000.0               0.00000   \n",
            "9997                     9.0              235276.0              11.90000   \n",
            "9998                   124.0                   0.0              36.09828   \n",
            "9999                     5.0              565808.0              16.60000   \n",
            "\n",
            "      AGRGT_BAL_ALL_XCLD_MRTG  N_OF_SATISFY_FNC_REV_ACTS  \\\n",
            "0                        1214                          0   \n",
            "1                      113430                          1   \n",
            "2                           0                          0   \n",
            "3                         122                          0   \n",
            "4                           0                          0   \n",
            "...                       ...                        ...   \n",
            "9995                        0                          0   \n",
            "9996                        0                          0   \n",
            "9997                     4041                          1   \n",
            "9998                        0                          0   \n",
            "9999                     3963                          1   \n",
            "\n",
            "      AVG_BAL_ALL_FNC_REV_ACTS  M_SNCOLDST_BNKINSTL_ACTOPN  \\\n",
            "0                  1728.331622                   99.930936   \n",
            "1                  3165.000000                  109.000000   \n",
            "2                  1728.331622                   99.930936   \n",
            "3                  1728.331622                   99.930936   \n",
            "4                  1728.331622                   99.930936   \n",
            "...                        ...                         ...   \n",
            "9995               1728.332000                   99.930940   \n",
            "9996               1728.332000                   99.930940   \n",
            "9997               1728.332000                  132.000000   \n",
            "9998               1728.332000                  138.000000   \n",
            "9999               1728.332000                   99.930940   \n",
            "\n",
            "      M_SNC_MSTREC_INSTL_TRD_OPN  M_SNC_OLDST_MRTG_ACT_OPN  \\\n",
            "0                     128.000000                140.241702   \n",
            "1                      46.000000                171.000000   \n",
            "2                      42.156461                140.241702   \n",
            "3                      42.156461                140.241702   \n",
            "4                      42.156461                140.241702   \n",
            "...                          ...                       ...   \n",
            "9995                  115.000000                 85.000000   \n",
            "9996                   87.000000                140.241700   \n",
            "9997                   60.000000                395.000000   \n",
            "9998                  138.000000                140.241700   \n",
            "9999                   50.000000                 51.000000   \n",
            "\n",
            "      N_BC_ACTS_OPN_IN_24M  AVG_BAL_ALL_PRM_BC_ACTS  \\\n",
            "0                        0               607.000000   \n",
            "1                        3              1310.000000   \n",
            "2                        1                 0.000000   \n",
            "3                        1                61.000000   \n",
            "4                        0              2518.654227   \n",
            "...                    ...                      ...   \n",
            "9995                     0              2518.654000   \n",
            "9996                     0              2518.654000   \n",
            "9997                     2               681.000000   \n",
            "9998                     0              2518.654000   \n",
            "9999                     1              2518.654000   \n",
            "\n",
            "      M_SNC_OLDST_RETAIL_ACT_OPN  RATIO_RETAIL_BAL2HI_CRDT  \\\n",
            "0                     165.627094                 11.252956   \n",
            "1                     158.000000                  1.200000   \n",
            "2                     165.627094                 11.252956   \n",
            "3                      71.000000                  0.000000   \n",
            "4                     367.000000                  0.000000   \n",
            "...                          ...                       ...   \n",
            "9995                  165.627100                 11.252960   \n",
            "9996                  165.627100                 11.252960   \n",
            "9997                  355.000000                  8.600000   \n",
            "9998                  208.000000                 11.252960   \n",
            "9999                   88.000000                  0.000000   \n",
            "\n",
            "      PRCNT_OF_ACTS_NEVER_DLQNT  N_OPEN_REV_ACTS  HI_RETAIL_CRDT_LMT  \\\n",
            "0                         100.0                2                   0   \n",
            "1                          97.2               19                4300   \n",
            "2                         100.0                1                   0   \n",
            "3                         100.0                6                 600   \n",
            "4                         100.0                1                 200   \n",
            "...                         ...              ...                 ...   \n",
            "9995                        0.0                0                   0   \n",
            "9996                       60.0                4                   0   \n",
            "9997                       77.3               11                2500   \n",
            "9998                      100.0                2                   0   \n",
            "9999                       88.2                6               10000   \n",
            "\n",
            "      D_NA_M_SNC_MST_RCNT_ACT_OPN  D_NA_AVG_BAL_ALL_FNC_REV_ACTS  \\\n",
            "0                               0                              1   \n",
            "1                               0                              0   \n",
            "2                               0                              1   \n",
            "3                               0                              1   \n",
            "4                               0                              1   \n",
            "...                           ...                            ...   \n",
            "9995                            0                              1   \n",
            "9996                            0                              1   \n",
            "9997                            0                              1   \n",
            "9998                            0                              1   \n",
            "9999                            0                              1   \n",
            "\n",
            "      D_NA_M_SNCOLDST_BNKINSTL_ACTOPN  D_NA_M_SNC_OLDST_MRTG_ACT_OPN  \n",
            "0                                   1                              1  \n",
            "1                                   0                              0  \n",
            "2                                   1                              1  \n",
            "3                                   1                              1  \n",
            "4                                   1                              1  \n",
            "...                               ...                            ...  \n",
            "9995                                1                              0  \n",
            "9996                                1                              1  \n",
            "9997                                0                              0  \n",
            "9998                                0                              1  \n",
            "9999                                1                              0  \n",
            "\n",
            "[10000 rows x 20 columns]\n",
            "(10000, 20)\n"
          ]
        }
      ],
      "source": [
        "# Selecting these variables from the training_data DataFrame\n",
        "selected_traindata = df_train[high_iv_variables.tolist()]\n",
        "\n",
        "print(selected_traindata)\n",
        "print(selected_traindata.shape)"
      ]
    },
    {
      "cell_type": "code",
      "execution_count": null,
      "metadata": {
        "id": "nk6ZbtL6i1Ws",
        "colab": {
          "base_uri": "https://localhost:8080/"
        },
        "outputId": "61ad37ab-dd7e-4a8b-ec0c-af46ade19d85"
      },
      "outputs": [
        {
          "output_type": "execute_result",
          "data": {
            "text/plain": [
              "Index(['M_SNC_MST_RCNT_ACT_OPN', 'TOT_HI_CRDT_CRDT_LMT',\n",
              "       'RATIO_BAL_TO_HI_CRDT', 'AGRGT_BAL_ALL_XCLD_MRTG',\n",
              "       'N_OF_SATISFY_FNC_REV_ACTS', 'AVG_BAL_ALL_FNC_REV_ACTS',\n",
              "       'M_SNCOLDST_BNKINSTL_ACTOPN', 'M_SNC_MSTREC_INSTL_TRD_OPN',\n",
              "       'M_SNC_OLDST_MRTG_ACT_OPN', 'N_BC_ACTS_OPN_IN_24M',\n",
              "       'AVG_BAL_ALL_PRM_BC_ACTS', 'M_SNC_OLDST_RETAIL_ACT_OPN',\n",
              "       'RATIO_RETAIL_BAL2HI_CRDT', 'PRCNT_OF_ACTS_NEVER_DLQNT',\n",
              "       'N_OPEN_REV_ACTS', 'HI_RETAIL_CRDT_LMT', 'D_NA_M_SNC_MST_RCNT_ACT_OPN',\n",
              "       'D_NA_AVG_BAL_ALL_FNC_REV_ACTS', 'D_NA_M_SNCOLDST_BNKINSTL_ACTOPN',\n",
              "       'D_NA_M_SNC_OLDST_MRTG_ACT_OPN'],\n",
              "      dtype='object')"
            ]
          },
          "metadata": {},
          "execution_count": 29
        }
      ],
      "source": [
        "selected_traindata.columns"
      ]
    },
    {
      "cell_type": "code",
      "execution_count": null,
      "metadata": {
        "id": "2GD6HRV8ZeCV",
        "colab": {
          "base_uri": "https://localhost:8080/"
        },
        "outputId": "49c5422f-6e4d-4c93-d6ef-65df2adffa6e"
      },
      "outputs": [
        {
          "output_type": "stream",
          "name": "stdout",
          "text": [
            "      M_SNC_MST_RCNT_ACT_OPN  TOT_HI_CRDT_CRDT_LMT  RATIO_BAL_TO_HI_CRDT  \\\n",
            "0                 347.000000                   0.0              36.09506   \n",
            "1                   6.000000                4992.0              77.70000   \n",
            "2                  29.883391                   0.0              36.09506   \n",
            "3                 117.000000                   0.0              36.09506   \n",
            "4                  95.000000               93553.0              11.30000   \n",
            "...                      ...                   ...                   ...   \n",
            "9995                2.000000               98000.0               0.40000   \n",
            "9996                1.000000              145251.0              12.50000   \n",
            "9997               39.000000               44500.0               7.50000   \n",
            "9998              186.000000                1079.0              36.09506   \n",
            "9999                5.000000                 443.0             100.00000   \n",
            "\n",
            "      AGRGT_BAL_ALL_XCLD_MRTG  N_OF_SATISFY_FNC_REV_ACTS  \\\n",
            "0                           0                          0   \n",
            "1                        3879                          0   \n",
            "2                           0                          0   \n",
            "3                           0                          0   \n",
            "4                        1615                          0   \n",
            "...                       ...                        ...   \n",
            "9995                    39280                          0   \n",
            "9996                     8199                          3   \n",
            "9997                     3322                          1   \n",
            "9998                     1079                          0   \n",
            "9999                      443                          0   \n",
            "\n",
            "      AVG_BAL_ALL_FNC_REV_ACTS  M_SNCOLDST_BNKINSTL_ACTOPN  \\\n",
            "0                  1767.197203                   99.789582   \n",
            "1                  1767.197203                   99.789582   \n",
            "2                  1767.197203                   99.789582   \n",
            "3                  1767.197203                   99.789582   \n",
            "4                  1767.197203                  151.000000   \n",
            "...                        ...                         ...   \n",
            "9995               1767.197203                   99.789582   \n",
            "9996                  0.000000                   99.789582   \n",
            "9997                  0.000000                   99.789582   \n",
            "9998               1767.197203                   99.789582   \n",
            "9999               1767.197203                   99.789582   \n",
            "\n",
            "      M_SNC_MSTREC_INSTL_TRD_OPN  M_SNC_OLDST_MRTG_ACT_OPN  \\\n",
            "0                      41.790191                138.960118   \n",
            "1                      41.790191                138.960118   \n",
            "2                      41.790191                138.960118   \n",
            "3                     117.000000                138.960118   \n",
            "4                      95.000000                156.000000   \n",
            "...                          ...                       ...   \n",
            "9995                   41.790191                148.000000   \n",
            "9996                  131.000000                 99.000000   \n",
            "9997                   39.000000                138.960118   \n",
            "9998                   41.790191                138.960118   \n",
            "9999                   41.790191                138.960118   \n",
            "\n",
            "      N_BC_ACTS_OPN_IN_24M  AVG_BAL_ALL_PRM_BC_ACTS  \\\n",
            "0                        0              2494.414341   \n",
            "1                        0              2494.414341   \n",
            "2                        0              2494.414341   \n",
            "3                        0              2494.414341   \n",
            "4                        0              2494.414341   \n",
            "...                    ...                      ...   \n",
            "9995                     4                88.000000   \n",
            "9996                     3              4100.000000   \n",
            "9997                     0              1636.000000   \n",
            "9998                     0              2494.414341   \n",
            "9999                     1              2494.414341   \n",
            "\n",
            "      M_SNC_OLDST_RETAIL_ACT_OPN  RATIO_RETAIL_BAL2HI_CRDT  \\\n",
            "0                       164.2389                  11.49123   \n",
            "1                       110.0000                   0.00000   \n",
            "2                       164.2389                  11.49123   \n",
            "3                       164.2389                  11.49123   \n",
            "4                       165.0000                   0.90000   \n",
            "...                          ...                       ...   \n",
            "9995                    123.0000                   0.00000   \n",
            "9996                     27.0000                   0.00000   \n",
            "9997                    164.2389                  11.49123   \n",
            "9998                    164.2389                  11.49123   \n",
            "9999                    164.2389                  11.49123   \n",
            "\n",
            "      PRCNT_OF_ACTS_NEVER_DLQNT  N_OPEN_REV_ACTS  HI_RETAIL_CRDT_LMT  \\\n",
            "0                    100.000000                0                   0   \n",
            "1                     46.700000                3                 500   \n",
            "2                     80.814868                0                   0   \n",
            "3                    100.000000                0                   0   \n",
            "4                     75.000000                3                4200   \n",
            "...                         ...              ...                 ...   \n",
            "9995                 100.000000               10                1500   \n",
            "9996                  89.300000                9                1200   \n",
            "9997                 100.000000                5                   0   \n",
            "9998                 100.000000                2                   0   \n",
            "9999                 100.000000                1                   0   \n",
            "\n",
            "      D_NA_M_SNC_MST_RCNT_ACT_OPN  D_NA_AVG_BAL_ALL_FNC_REV_ACTS  \\\n",
            "0                               0                              1   \n",
            "1                               0                              1   \n",
            "2                               1                              1   \n",
            "3                               0                              1   \n",
            "4                               0                              1   \n",
            "...                           ...                            ...   \n",
            "9995                            0                              1   \n",
            "9996                            0                              0   \n",
            "9997                            0                              0   \n",
            "9998                            0                              1   \n",
            "9999                            0                              1   \n",
            "\n",
            "      D_NA_M_SNCOLDST_BNKINSTL_ACTOPN  D_NA_M_SNC_OLDST_MRTG_ACT_OPN  \n",
            "0                                   1                              1  \n",
            "1                                   1                              1  \n",
            "2                                   1                              1  \n",
            "3                                   1                              1  \n",
            "4                                   0                              0  \n",
            "...                               ...                            ...  \n",
            "9995                                1                              0  \n",
            "9996                                1                              0  \n",
            "9997                                1                              1  \n",
            "9998                                1                              1  \n",
            "9999                                1                              1  \n",
            "\n",
            "[10000 rows x 20 columns]\n",
            "(10000, 20)\n"
          ]
        }
      ],
      "source": [
        "# Selecting these variables from the valid_data DataFrame\n",
        "selected_validdata = df_valid[high_iv_variables.tolist()]\n",
        "print(selected_validdata)\n",
        "print(selected_validdata.shape)"
      ]
    },
    {
      "cell_type": "markdown",
      "metadata": {
        "id": "9XUS6Mbih44Q"
      },
      "source": [
        "# Question 3"
      ]
    },
    {
      "cell_type": "markdown",
      "metadata": {
        "id": "USB1PrVOhydu"
      },
      "source": [
        "## Model creation and finding the optimal model"
      ]
    },
    {
      "cell_type": "code",
      "execution_count": null,
      "metadata": {
        "id": "WjzL7ADot7Xw",
        "colab": {
          "base_uri": "https://localhost:8080/"
        },
        "outputId": "87785d7f-3873-4fcc-93e6-59010548ba33"
      },
      "outputs": [
        {
          "output_type": "stream",
          "name": "stdout",
          "text": [
            "Accuracy: 0.8065\n"
          ]
        }
      ],
      "source": [
        "# Instantiate a logistic regression model.\n",
        "model = LogisticRegression(max_iter=10000)\n",
        "\n",
        "# Fit the model to the training data.\n",
        "model.fit(selected_traindata, df_train['PURCHASE'])\n",
        "\n",
        "# Make predictions on the validation data.\n",
        "predictions = model.predict(selected_validdata)\n",
        "\n",
        "# Evaluate the model's performance.\n",
        "from sklearn.metrics import accuracy_score\n",
        "accuracy = accuracy_score(df_valid['PURCHASE'], predictions)\n",
        "print('Accuracy:', accuracy)"
      ]
    },
    {
      "cell_type": "code",
      "execution_count": null,
      "metadata": {
        "id": "AQKgwNXvTcRd",
        "colab": {
          "base_uri": "https://localhost:8080/"
        },
        "outputId": "2e72c53d-2a8d-4c4d-8b8a-b643abc36078"
      },
      "outputs": [
        {
          "output_type": "stream",
          "name": "stdout",
          "text": [
            "Best Parameters: {'C': 10.0, 'penalty': 'l1', 'random_state': 42, 'solver': 'liblinear'}\n"
          ]
        }
      ],
      "source": [
        "# Define the parameter grid\n",
        "param_grid = {\n",
        "    'penalty': ['l1', 'l2'],\n",
        "    'C': [0.1, 1.0, 10.0],\n",
        "    'solver': ['liblinear', 'saga'],\n",
        "    'random_state': [42, 123, 456]\n",
        "}\n",
        "\n",
        "# Define a scorer for the deviance (negative log-loss)\n",
        "deviance_scorer = make_scorer(log_loss, greater_is_better=False, needs_proba=True)\n",
        "\n",
        "# Create the GridSearchCV object\n",
        "logistic_grid = GridSearchCV(\n",
        "    LogisticRegression(max_iter=100),\n",
        "    param_grid,\n",
        "    scoring=deviance_scorer,\n",
        "    cv=5,\n",
        "    n_jobs=-1\n",
        ")\n",
        "\n",
        "# Fit the GridSearchCV object to the training data\n",
        "logistic_grid.fit(selected_traindata, df_train['PURCHASE'])\n",
        "\n",
        "# Get the optimal model\n",
        "optimal_model = logistic_grid.best_estimator_\n",
        "print(\"Best Parameters:\", logistic_grid.best_params_)"
      ]
    },
    {
      "cell_type": "markdown",
      "metadata": {
        "id": "UO8uPw_SXruF"
      },
      "source": [
        "## Summary"
      ]
    },
    {
      "cell_type": "markdown",
      "metadata": {
        "id": "fO6Fya6RXoGj"
      },
      "source": [
        "We started by importing necessary libraries: `LogisticRegression` from `sklearn.linear_model`, `GridSearchCV` from `sklearn.model_selection`, and `make_scorer`, `log_loss` from `sklearn.metrics`. Next, we defined a parameter grid with different values for 'penalty', 'C', and 'solver' to explore various possibilities. Then, we created a scorer for deviance using `make_scorer`, setting it up to work with probability estimates. After that, we instantiated a `GridSearchCV` object named `logistic_grid`. This object used logistic regression with a maximum iteration of 10,000 and the parameter grid defined earlier. We set the scoring to use negative log loss (deviance) with 5-fold cross-validation, enabling parallel processing to utilize all available CPU cores.\n",
        "\n",
        "Moving on, we fitted the `logistic_grid` object to the training data (`selected_traindata`) along with the corresponding target variable (`df_train['PURCHASE']`). We then extracted the best estimator (`optimal_model`) from the `logistic_grid` object and printed the best parameters. Subsequently, we made predictions on the validation data (`selected_validdata`) using the optimal model. Finally, we evaluated the optimal model's performance by calculating accuracy using `accuracy_score` and evaluating deviance (negative log loss) on the validation data."
      ]
    },
    {
      "cell_type": "markdown",
      "metadata": {
        "id": "hmEGZzVUiJsk"
      },
      "source": [
        "## Comment on predictor variables"
      ]
    },
    {
      "cell_type": "code",
      "execution_count": null,
      "metadata": {
        "id": "iIETEAQDXns4",
        "colab": {
          "base_uri": "https://localhost:8080/",
          "height": 677
        },
        "outputId": "f895a4ef-bba2-4f2a-f579-e82f5e12de41"
      },
      "outputs": [
        {
          "output_type": "execute_result",
          "data": {
            "text/plain": [
              "                          Variable        IV\n",
              "0           M_SNC_MST_RCNT_ACT_OPN  0.502863\n",
              "0             TOT_HI_CRDT_CRDT_LMT  0.886739\n",
              "0             RATIO_BAL_TO_HI_CRDT  0.677171\n",
              "0          AGRGT_BAL_ALL_XCLD_MRTG  0.259798\n",
              "0        N_OF_SATISFY_FNC_REV_ACTS  0.260360\n",
              "0         AVG_BAL_ALL_FNC_REV_ACTS  0.184061\n",
              "0       M_SNCOLDST_BNKINSTL_ACTOPN  0.118144\n",
              "0       M_SNC_MSTREC_INSTL_TRD_OPN  0.187704\n",
              "0         M_SNC_OLDST_MRTG_ACT_OPN  0.182539\n",
              "0             N_BC_ACTS_OPN_IN_24M  0.106883\n",
              "0          AVG_BAL_ALL_PRM_BC_ACTS  0.377132\n",
              "0       M_SNC_OLDST_RETAIL_ACT_OPN  0.494240\n",
              "0         RATIO_RETAIL_BAL2HI_CRDT  0.342756\n",
              "0        PRCNT_OF_ACTS_NEVER_DLQNT  0.516452\n",
              "0                  N_OPEN_REV_ACTS  0.815513\n",
              "0               HI_RETAIL_CRDT_LMT  0.338618\n",
              "0      D_NA_M_SNC_MST_RCNT_ACT_OPN  0.575277\n",
              "0    D_NA_AVG_BAL_ALL_FNC_REV_ACTS  0.196860\n",
              "0  D_NA_M_SNCOLDST_BNKINSTL_ACTOPN  0.137077\n",
              "0    D_NA_M_SNC_OLDST_MRTG_ACT_OPN  0.149410"
            ],
            "text/html": [
              "\n",
              "  <div id=\"df-2d028b31-e170-4b3e-b55f-7e46d54e57c4\" class=\"colab-df-container\">\n",
              "    <div>\n",
              "<style scoped>\n",
              "    .dataframe tbody tr th:only-of-type {\n",
              "        vertical-align: middle;\n",
              "    }\n",
              "\n",
              "    .dataframe tbody tr th {\n",
              "        vertical-align: top;\n",
              "    }\n",
              "\n",
              "    .dataframe thead th {\n",
              "        text-align: right;\n",
              "    }\n",
              "</style>\n",
              "<table border=\"1\" class=\"dataframe\">\n",
              "  <thead>\n",
              "    <tr style=\"text-align: right;\">\n",
              "      <th></th>\n",
              "      <th>Variable</th>\n",
              "      <th>IV</th>\n",
              "    </tr>\n",
              "  </thead>\n",
              "  <tbody>\n",
              "    <tr>\n",
              "      <th>0</th>\n",
              "      <td>M_SNC_MST_RCNT_ACT_OPN</td>\n",
              "      <td>0.502863</td>\n",
              "    </tr>\n",
              "    <tr>\n",
              "      <th>0</th>\n",
              "      <td>TOT_HI_CRDT_CRDT_LMT</td>\n",
              "      <td>0.886739</td>\n",
              "    </tr>\n",
              "    <tr>\n",
              "      <th>0</th>\n",
              "      <td>RATIO_BAL_TO_HI_CRDT</td>\n",
              "      <td>0.677171</td>\n",
              "    </tr>\n",
              "    <tr>\n",
              "      <th>0</th>\n",
              "      <td>AGRGT_BAL_ALL_XCLD_MRTG</td>\n",
              "      <td>0.259798</td>\n",
              "    </tr>\n",
              "    <tr>\n",
              "      <th>0</th>\n",
              "      <td>N_OF_SATISFY_FNC_REV_ACTS</td>\n",
              "      <td>0.260360</td>\n",
              "    </tr>\n",
              "    <tr>\n",
              "      <th>0</th>\n",
              "      <td>AVG_BAL_ALL_FNC_REV_ACTS</td>\n",
              "      <td>0.184061</td>\n",
              "    </tr>\n",
              "    <tr>\n",
              "      <th>0</th>\n",
              "      <td>M_SNCOLDST_BNKINSTL_ACTOPN</td>\n",
              "      <td>0.118144</td>\n",
              "    </tr>\n",
              "    <tr>\n",
              "      <th>0</th>\n",
              "      <td>M_SNC_MSTREC_INSTL_TRD_OPN</td>\n",
              "      <td>0.187704</td>\n",
              "    </tr>\n",
              "    <tr>\n",
              "      <th>0</th>\n",
              "      <td>M_SNC_OLDST_MRTG_ACT_OPN</td>\n",
              "      <td>0.182539</td>\n",
              "    </tr>\n",
              "    <tr>\n",
              "      <th>0</th>\n",
              "      <td>N_BC_ACTS_OPN_IN_24M</td>\n",
              "      <td>0.106883</td>\n",
              "    </tr>\n",
              "    <tr>\n",
              "      <th>0</th>\n",
              "      <td>AVG_BAL_ALL_PRM_BC_ACTS</td>\n",
              "      <td>0.377132</td>\n",
              "    </tr>\n",
              "    <tr>\n",
              "      <th>0</th>\n",
              "      <td>M_SNC_OLDST_RETAIL_ACT_OPN</td>\n",
              "      <td>0.494240</td>\n",
              "    </tr>\n",
              "    <tr>\n",
              "      <th>0</th>\n",
              "      <td>RATIO_RETAIL_BAL2HI_CRDT</td>\n",
              "      <td>0.342756</td>\n",
              "    </tr>\n",
              "    <tr>\n",
              "      <th>0</th>\n",
              "      <td>PRCNT_OF_ACTS_NEVER_DLQNT</td>\n",
              "      <td>0.516452</td>\n",
              "    </tr>\n",
              "    <tr>\n",
              "      <th>0</th>\n",
              "      <td>N_OPEN_REV_ACTS</td>\n",
              "      <td>0.815513</td>\n",
              "    </tr>\n",
              "    <tr>\n",
              "      <th>0</th>\n",
              "      <td>HI_RETAIL_CRDT_LMT</td>\n",
              "      <td>0.338618</td>\n",
              "    </tr>\n",
              "    <tr>\n",
              "      <th>0</th>\n",
              "      <td>D_NA_M_SNC_MST_RCNT_ACT_OPN</td>\n",
              "      <td>0.575277</td>\n",
              "    </tr>\n",
              "    <tr>\n",
              "      <th>0</th>\n",
              "      <td>D_NA_AVG_BAL_ALL_FNC_REV_ACTS</td>\n",
              "      <td>0.196860</td>\n",
              "    </tr>\n",
              "    <tr>\n",
              "      <th>0</th>\n",
              "      <td>D_NA_M_SNCOLDST_BNKINSTL_ACTOPN</td>\n",
              "      <td>0.137077</td>\n",
              "    </tr>\n",
              "    <tr>\n",
              "      <th>0</th>\n",
              "      <td>D_NA_M_SNC_OLDST_MRTG_ACT_OPN</td>\n",
              "      <td>0.149410</td>\n",
              "    </tr>\n",
              "  </tbody>\n",
              "</table>\n",
              "</div>\n",
              "    <div class=\"colab-df-buttons\">\n",
              "\n",
              "  <div class=\"colab-df-container\">\n",
              "    <button class=\"colab-df-convert\" onclick=\"convertToInteractive('df-2d028b31-e170-4b3e-b55f-7e46d54e57c4')\"\n",
              "            title=\"Convert this dataframe to an interactive table.\"\n",
              "            style=\"display:none;\">\n",
              "\n",
              "  <svg xmlns=\"http://www.w3.org/2000/svg\" height=\"24px\" viewBox=\"0 -960 960 960\">\n",
              "    <path d=\"M120-120v-720h720v720H120Zm60-500h600v-160H180v160Zm220 220h160v-160H400v160Zm0 220h160v-160H400v160ZM180-400h160v-160H180v160Zm440 0h160v-160H620v160ZM180-180h160v-160H180v160Zm440 0h160v-160H620v160Z\"/>\n",
              "  </svg>\n",
              "    </button>\n",
              "\n",
              "  <style>\n",
              "    .colab-df-container {\n",
              "      display:flex;\n",
              "      gap: 12px;\n",
              "    }\n",
              "\n",
              "    .colab-df-convert {\n",
              "      background-color: #E8F0FE;\n",
              "      border: none;\n",
              "      border-radius: 50%;\n",
              "      cursor: pointer;\n",
              "      display: none;\n",
              "      fill: #1967D2;\n",
              "      height: 32px;\n",
              "      padding: 0 0 0 0;\n",
              "      width: 32px;\n",
              "    }\n",
              "\n",
              "    .colab-df-convert:hover {\n",
              "      background-color: #E2EBFA;\n",
              "      box-shadow: 0px 1px 2px rgba(60, 64, 67, 0.3), 0px 1px 3px 1px rgba(60, 64, 67, 0.15);\n",
              "      fill: #174EA6;\n",
              "    }\n",
              "\n",
              "    .colab-df-buttons div {\n",
              "      margin-bottom: 4px;\n",
              "    }\n",
              "\n",
              "    [theme=dark] .colab-df-convert {\n",
              "      background-color: #3B4455;\n",
              "      fill: #D2E3FC;\n",
              "    }\n",
              "\n",
              "    [theme=dark] .colab-df-convert:hover {\n",
              "      background-color: #434B5C;\n",
              "      box-shadow: 0px 1px 3px 1px rgba(0, 0, 0, 0.15);\n",
              "      filter: drop-shadow(0px 1px 2px rgba(0, 0, 0, 0.3));\n",
              "      fill: #FFFFFF;\n",
              "    }\n",
              "  </style>\n",
              "\n",
              "    <script>\n",
              "      const buttonEl =\n",
              "        document.querySelector('#df-2d028b31-e170-4b3e-b55f-7e46d54e57c4 button.colab-df-convert');\n",
              "      buttonEl.style.display =\n",
              "        google.colab.kernel.accessAllowed ? 'block' : 'none';\n",
              "\n",
              "      async function convertToInteractive(key) {\n",
              "        const element = document.querySelector('#df-2d028b31-e170-4b3e-b55f-7e46d54e57c4');\n",
              "        const dataTable =\n",
              "          await google.colab.kernel.invokeFunction('convertToInteractive',\n",
              "                                                    [key], {});\n",
              "        if (!dataTable) return;\n",
              "\n",
              "        const docLinkHtml = 'Like what you see? Visit the ' +\n",
              "          '<a target=\"_blank\" href=https://colab.research.google.com/notebooks/data_table.ipynb>data table notebook</a>'\n",
              "          + ' to learn more about interactive tables.';\n",
              "        element.innerHTML = '';\n",
              "        dataTable['output_type'] = 'display_data';\n",
              "        await google.colab.output.renderOutput(dataTable, element);\n",
              "        const docLink = document.createElement('div');\n",
              "        docLink.innerHTML = docLinkHtml;\n",
              "        element.appendChild(docLink);\n",
              "      }\n",
              "    </script>\n",
              "  </div>\n",
              "\n",
              "\n",
              "<div id=\"df-f870bfbc-4ae1-4e30-960d-5be1ef2012ce\">\n",
              "  <button class=\"colab-df-quickchart\" onclick=\"quickchart('df-f870bfbc-4ae1-4e30-960d-5be1ef2012ce')\"\n",
              "            title=\"Suggest charts\"\n",
              "            style=\"display:none;\">\n",
              "\n",
              "<svg xmlns=\"http://www.w3.org/2000/svg\" height=\"24px\"viewBox=\"0 0 24 24\"\n",
              "     width=\"24px\">\n",
              "    <g>\n",
              "        <path d=\"M19 3H5c-1.1 0-2 .9-2 2v14c0 1.1.9 2 2 2h14c1.1 0 2-.9 2-2V5c0-1.1-.9-2-2-2zM9 17H7v-7h2v7zm4 0h-2V7h2v10zm4 0h-2v-4h2v4z\"/>\n",
              "    </g>\n",
              "</svg>\n",
              "  </button>\n",
              "\n",
              "<style>\n",
              "  .colab-df-quickchart {\n",
              "      --bg-color: #E8F0FE;\n",
              "      --fill-color: #1967D2;\n",
              "      --hover-bg-color: #E2EBFA;\n",
              "      --hover-fill-color: #174EA6;\n",
              "      --disabled-fill-color: #AAA;\n",
              "      --disabled-bg-color: #DDD;\n",
              "  }\n",
              "\n",
              "  [theme=dark] .colab-df-quickchart {\n",
              "      --bg-color: #3B4455;\n",
              "      --fill-color: #D2E3FC;\n",
              "      --hover-bg-color: #434B5C;\n",
              "      --hover-fill-color: #FFFFFF;\n",
              "      --disabled-bg-color: #3B4455;\n",
              "      --disabled-fill-color: #666;\n",
              "  }\n",
              "\n",
              "  .colab-df-quickchart {\n",
              "    background-color: var(--bg-color);\n",
              "    border: none;\n",
              "    border-radius: 50%;\n",
              "    cursor: pointer;\n",
              "    display: none;\n",
              "    fill: var(--fill-color);\n",
              "    height: 32px;\n",
              "    padding: 0;\n",
              "    width: 32px;\n",
              "  }\n",
              "\n",
              "  .colab-df-quickchart:hover {\n",
              "    background-color: var(--hover-bg-color);\n",
              "    box-shadow: 0 1px 2px rgba(60, 64, 67, 0.3), 0 1px 3px 1px rgba(60, 64, 67, 0.15);\n",
              "    fill: var(--button-hover-fill-color);\n",
              "  }\n",
              "\n",
              "  .colab-df-quickchart-complete:disabled,\n",
              "  .colab-df-quickchart-complete:disabled:hover {\n",
              "    background-color: var(--disabled-bg-color);\n",
              "    fill: var(--disabled-fill-color);\n",
              "    box-shadow: none;\n",
              "  }\n",
              "\n",
              "  .colab-df-spinner {\n",
              "    border: 2px solid var(--fill-color);\n",
              "    border-color: transparent;\n",
              "    border-bottom-color: var(--fill-color);\n",
              "    animation:\n",
              "      spin 1s steps(1) infinite;\n",
              "  }\n",
              "\n",
              "  @keyframes spin {\n",
              "    0% {\n",
              "      border-color: transparent;\n",
              "      border-bottom-color: var(--fill-color);\n",
              "      border-left-color: var(--fill-color);\n",
              "    }\n",
              "    20% {\n",
              "      border-color: transparent;\n",
              "      border-left-color: var(--fill-color);\n",
              "      border-top-color: var(--fill-color);\n",
              "    }\n",
              "    30% {\n",
              "      border-color: transparent;\n",
              "      border-left-color: var(--fill-color);\n",
              "      border-top-color: var(--fill-color);\n",
              "      border-right-color: var(--fill-color);\n",
              "    }\n",
              "    40% {\n",
              "      border-color: transparent;\n",
              "      border-right-color: var(--fill-color);\n",
              "      border-top-color: var(--fill-color);\n",
              "    }\n",
              "    60% {\n",
              "      border-color: transparent;\n",
              "      border-right-color: var(--fill-color);\n",
              "    }\n",
              "    80% {\n",
              "      border-color: transparent;\n",
              "      border-right-color: var(--fill-color);\n",
              "      border-bottom-color: var(--fill-color);\n",
              "    }\n",
              "    90% {\n",
              "      border-color: transparent;\n",
              "      border-bottom-color: var(--fill-color);\n",
              "    }\n",
              "  }\n",
              "</style>\n",
              "\n",
              "  <script>\n",
              "    async function quickchart(key) {\n",
              "      const quickchartButtonEl =\n",
              "        document.querySelector('#' + key + ' button');\n",
              "      quickchartButtonEl.disabled = true;  // To prevent multiple clicks.\n",
              "      quickchartButtonEl.classList.add('colab-df-spinner');\n",
              "      try {\n",
              "        const charts = await google.colab.kernel.invokeFunction(\n",
              "            'suggestCharts', [key], {});\n",
              "      } catch (error) {\n",
              "        console.error('Error during call to suggestCharts:', error);\n",
              "      }\n",
              "      quickchartButtonEl.classList.remove('colab-df-spinner');\n",
              "      quickchartButtonEl.classList.add('colab-df-quickchart-complete');\n",
              "    }\n",
              "    (() => {\n",
              "      let quickchartButtonEl =\n",
              "        document.querySelector('#df-f870bfbc-4ae1-4e30-960d-5be1ef2012ce button');\n",
              "      quickchartButtonEl.style.display =\n",
              "        google.colab.kernel.accessAllowed ? 'block' : 'none';\n",
              "    })();\n",
              "  </script>\n",
              "</div>\n",
              "\n",
              "    </div>\n",
              "  </div>\n"
            ],
            "application/vnd.google.colaboratory.intrinsic+json": {
              "type": "dataframe",
              "summary": "{\n  \"name\": \"newDF[newDF['IV'] >= 0\",\n  \"rows\": 20,\n  \"fields\": [\n    {\n      \"column\": \"Variable\",\n      \"properties\": {\n        \"dtype\": \"string\",\n        \"num_unique_values\": 20,\n        \"samples\": [\n          \"M_SNC_MST_RCNT_ACT_OPN\",\n          \"D_NA_AVG_BAL_ALL_FNC_REV_ACTS\",\n          \"HI_RETAIL_CRDT_LMT\"\n        ],\n        \"semantic_type\": \"\",\n        \"description\": \"\"\n      }\n    },\n    {\n      \"column\": \"IV\",\n      \"properties\": {\n        \"dtype\": \"number\",\n        \"std\": 0.23514431493097987,\n        \"min\": 0.1068833792394443,\n        \"max\": 0.886738532371987,\n        \"num_unique_values\": 20,\n        \"samples\": [\n          0.5028630190035736,\n          0.1968601069051819,\n          0.33861828183564197\n        ],\n        \"semantic_type\": \"\",\n        \"description\": \"\"\n      }\n    }\n  ]\n}"
            }
          },
          "metadata": {},
          "execution_count": 33
        }
      ],
      "source": [
        "newDF[newDF['IV'] >= 0.1]"
      ]
    },
    {
      "cell_type": "code",
      "execution_count": null,
      "metadata": {
        "id": "kQzr7AmukVNE",
        "colab": {
          "base_uri": "https://localhost:8080/"
        },
        "outputId": "e7c8414b-824b-4e6f-a689-ae2f12bd78bb"
      },
      "outputs": [
        {
          "output_type": "stream",
          "name": "stdout",
          "text": [
            "Accuracy: 0.8042\n",
            "Deviance (Log Loss) on Validation Data: 0.4273\n"
          ]
        }
      ],
      "source": [
        "predictions = optimal_model.predict(selected_traindata)\n",
        "\n",
        "# Evaluate the optimal model's performance\n",
        "deviance = log_loss(df_train['PURCHASE'], optimal_model.predict_proba(selected_traindata))\n",
        "accuracy = accuracy_score(df_train['PURCHASE'], predictions)\n",
        "print('Accuracy:', accuracy)\n",
        "print(f\"Deviance (Log Loss) on Validation Data: {deviance:.4f}\")"
      ]
    },
    {
      "cell_type": "markdown",
      "metadata": {
        "id": "1v5mpQNxkSTp"
      },
      "source": [
        "With a Learning Accuracy of 80% and a deviance of 0.4273, it suggests that the selected predictor variables are effective in predicting the target variable using the training data. This indicates that these variables are capturing important patterns or in the data. However in order to not be led astray by overfitting, we would have to test it with unseen data before we can validate this claim"
      ]
    },
    {
      "cell_type": "markdown",
      "metadata": {
        "id": "s2aHiDvHi1MD"
      },
      "source": [
        "## Making Predictions"
      ]
    },
    {
      "cell_type": "code",
      "execution_count": null,
      "metadata": {
        "id": "008uQnt5i0jH",
        "colab": {
          "base_uri": "https://localhost:8080/"
        },
        "outputId": "920e3571-7016-4795-e1bf-fc3b971698ef"
      },
      "outputs": [
        {
          "output_type": "execute_result",
          "data": {
            "text/plain": [
              "array([0, 0, 0, ..., 0, 0, 0])"
            ]
          },
          "metadata": {},
          "execution_count": 35
        }
      ],
      "source": [
        "# Make predictions on the validation data\n",
        "predictions = optimal_model.predict(selected_validdata)\n",
        "predictions"
      ]
    },
    {
      "cell_type": "markdown",
      "metadata": {
        "id": "MtSLKM1zxLvi"
      },
      "source": [
        "## Evaluating the Model"
      ]
    },
    {
      "cell_type": "code",
      "source": [
        "\n",
        "print(classification_report(df_valid['PURCHASE'], predictions))"
      ],
      "metadata": {
        "colab": {
          "base_uri": "https://localhost:8080/"
        },
        "id": "16XxFXOpiOFV",
        "outputId": "36c57358-5ba8-41df-d4e7-3825738deab7"
      },
      "execution_count": null,
      "outputs": [
        {
          "output_type": "stream",
          "name": "stdout",
          "text": [
            "              precision    recall  f1-score   support\n",
            "\n",
            "           0       0.82      0.98      0.89      7987\n",
            "           1       0.67      0.18      0.28      2013\n",
            "\n",
            "    accuracy                           0.82     10000\n",
            "   macro avg       0.75      0.58      0.59     10000\n",
            "weighted avg       0.79      0.82      0.77     10000\n",
            "\n"
          ]
        }
      ]
    },
    {
      "cell_type": "code",
      "execution_count": null,
      "metadata": {
        "id": "QJVgSdo9xRrV",
        "colab": {
          "base_uri": "https://localhost:8080/",
          "height": 581
        },
        "outputId": "b7acb37e-efa0-4d2a-f078-c2a997e4606a"
      },
      "outputs": [
        {
          "output_type": "execute_result",
          "data": {
            "text/plain": [
              "Text(0.5, 1.0, 'Confusion Matrix')"
            ]
          },
          "metadata": {},
          "execution_count": 37
        },
        {
          "output_type": "display_data",
          "data": {
            "text/plain": [
              "<Figure size 800x600 with 2 Axes>"
            ],
            "image/png": "[encoded data removed]"
          },
          "metadata": {}
        }
      ],
      "source": [
        "from sklearn.metrics import confusion_matrix\n",
        "\n",
        "import matplotlib.pyplot as plt\n",
        "import seaborn as sns\n",
        "\n",
        "# Create a confusion matrix\n",
        "confusion_mat = confusion_matrix(df_valid['PURCHASE'], predictions)\n",
        "\n",
        "# Plot the confusion matrix\n",
        "plt.figure(figsize=(8, 6))\n",
        "sns.heatmap(confusion_mat, annot=True, fmt='d', cmap='cool')\n",
        "plt.xlabel('Predicted Label')\n",
        "plt.ylabel('True Label')\n",
        "plt.title('Confusion Matrix')"
      ]
    },
    {
      "cell_type": "code",
      "execution_count": null,
      "metadata": {
        "id": "D3fRxdyFyIkS",
        "colab": {
          "base_uri": "https://localhost:8080/"
        },
        "outputId": "33e3e3d2-874d-4522-d838-b3b43599265d"
      },
      "outputs": [
        {
          "output_type": "stream",
          "name": "stdout",
          "text": [
            "Sensitivity: 0.9777137849004632\n",
            "Specificity: 0.17635370094386488\n",
            "Accuracy: 0.8042\n",
            "Deviance (Log Loss) on Validation Data: 0.4102\n"
          ]
        }
      ],
      "source": [
        "# Calculate Sensitivity, Specificity, and Accuracy\n",
        "sensitivity = confusion_mat[0, 0] / (confusion_mat[0, 0] + confusion_mat[0, 1])\n",
        "specificity = confusion_mat[1, 1] / (confusion_mat[1, 0] + confusion_mat[1, 1])\n",
        "\n",
        "\n",
        "# Print the results\n",
        "print(\"Sensitivity:\", sensitivity)\n",
        "print(\"Specificity:\", specificity)\n",
        "print(\"Accuracy:\", accuracy)\n",
        "\n",
        "# Evaluate the deviance on the validation data\n",
        "deviance = log_loss(df_valid['PURCHASE'], optimal_model.predict_proba(selected_validdata))\n",
        "print(f\"Deviance (Log Loss) on Validation Data: {deviance:.4f}\")"
      ]
    },
    {
      "cell_type": "code",
      "execution_count": null,
      "metadata": {
        "id": "4X7nBQedyqQ7",
        "colab": {
          "base_uri": "https://localhost:8080/",
          "height": 581
        },
        "outputId": "8602ffee-839a-406c-c5a2-3f66d02b8f48"
      },
      "outputs": [
        {
          "output_type": "display_data",
          "data": {
            "text/plain": [
              "<Figure size 800x600 with 1 Axes>"
            ],
            "image/png": "[encoded data removed]"
          },
          "metadata": {}
        },
        {
          "output_type": "stream",
          "name": "stdout",
          "text": [
            "Area under the ROC curve: 0.7924998714067837\n"
          ]
        }
      ],
      "source": [
        "from sklearn.metrics import roc_curve, auc\n",
        "\n",
        "# Calculate the false positive rate (FPR) and true positive rate (TPR)\n",
        "fpr, tpr, _ = roc_curve(df_valid['PURCHASE'], optimal_model.predict_proba(selected_validdata)[:, 1])\n",
        "\n",
        "# Calculate the area under the curve (AUC)\n",
        "roc_auc = auc(fpr, tpr)\n",
        "\n",
        "# Plot the ROC curve\n",
        "plt.figure(figsize=(8, 6))\n",
        "plt.plot(fpr, tpr, color='purple', lw=2, label='ROC curve (area = %0.2f)' % roc_auc)\n",
        "plt.plot([0, 1], [0, 1], color='blue', lw=2, linestyle='--')\n",
        "plt.xlim([0.0, 1.0])\n",
        "plt.ylim([0.0, 1.05])\n",
        "plt.xlabel('False Positive Rate')\n",
        "plt.ylabel('True Positive Rate')\n",
        "plt.title('Receiver Operating Characteristic (ROC) Curve')\n",
        "plt.legend(loc=\"lower right\")\n",
        "plt.show()\n",
        "\n",
        "# Print the AUC value\n",
        "print('Area under the ROC curve:', roc_auc)\n"
      ]
    },
    {
      "cell_type": "markdown",
      "metadata": {
        "id": "tBvmp7sriymt"
      },
      "source": []
    },
    {
      "cell_type": "markdown",
      "metadata": {
        "id": "zgQjJzHtuYF_"
      },
      "source": [
        "## Question 4"
      ]
    },
    {
      "cell_type": "code",
      "source": [
        "X_train = selected_traindata\n",
        "y_train = df_train['PURCHASE']\n",
        "\n",
        "# Prepare the validation data\n",
        "X_valid = selected_validdata\n",
        "y_valid = df_valid['PURCHASE']"
      ],
      "metadata": {
        "id": "blpJw6VY_tPZ"
      },
      "execution_count": null,
      "outputs": []
    },
    {
      "cell_type": "code",
      "source": [
        "from sklearn.preprocessing import StandardScaler\n",
        "\n",
        "# Create a scaler object\n",
        "scaler = StandardScaler()\n",
        "\n",
        "# Fit on training data and transform both training and validation data\n",
        "X_train_scaled = scaler.fit_transform(X_train)\n",
        "X_valid_scaled = scaler.transform(X_valid)"
      ],
      "metadata": {
        "id": "2BAuBWQt_n_5"
      },
      "execution_count": null,
      "outputs": []
    },
    {
      "cell_type": "code",
      "source": [
        "# Applying SMOTE to the training data\n",
        "from imblearn.over_sampling import SMOTE\n",
        "smote = SMOTE()\n",
        "X_train_smote, y_train_smote = smote.fit_resample(X_train_scaled, y_train)"
      ],
      "metadata": {
        "id": "7gd7LBEs-FZk"
      },
      "execution_count": null,
      "outputs": []
    },
    {
      "cell_type": "code",
      "source": [
        "from sklearn.ensemble import RandomForestClassifier\n",
        "\n",
        "oob_errors = []\n",
        "num_features = range(1, 14)  # Features to consider at each split\n",
        "smote = SMOTE(random_state=423)\n",
        "\n",
        "for i in num_features:\n",
        "    # Apply SMOTE\n",
        "    X_train_smote, y_train_smote = smote.fit_resample(X_train_scaled, y_train)\n",
        "\n",
        "    # Fit Random Forest\n",
        "    rf = RandomForestClassifier(n_estimators=10001, max_features=i, oob_score=True, random_state=423, n_jobs=-1)\n",
        "    rf.fit(X_train_smote, y_train_smote)\n",
        "    oob_error = 1 - rf.oob_score_\n",
        "    oob_errors.append(oob_error)\n",
        "\n",
        "# Find the model with the lowest OOB error\n",
        "min_oob_error = min(oob_errors)\n",
        "best_features = num_features[oob_errors.index(min_oob_error)]\n",
        "\n",
        "# Plotting\n",
        "plt.figure(figsize=(10, 6))\n",
        "plt.plot(num_features, oob_errors, marker='o',color='purple')\n",
        "plt.scatter(best_features, min_oob_error, color='red')\n",
        "plt.axhline(y=min_oob_error, linestyle='--', color='red')\n",
        "plt.axvline(x=best_features, linestyle='--', color='red')\n",
        "plt.title('Random Forest OOB Error by Number of Features')\n",
        "plt.xlabel('Number of Features (max_features)')\n",
        "plt.ylabel('OOB Error Rate')\n",
        "plt.show()\n"
      ],
      "metadata": {
        "colab": {
          "base_uri": "https://localhost:8080/",
          "height": 564
        },
        "id": "RWXGG5jr90pG",
        "outputId": "96f93ed6-59cf-4b3b-99e4-51e2ca5e22dd"
      },
      "execution_count": null,
      "outputs": [
        {
          "output_type": "display_data",
          "data": {
            "text/plain": [
              "<Figure size 1000x600 with 1 Axes>"
            ],
            "image/png": "[encoded data removed]"
          },
          "metadata": {}
        }
      ]
    },
    {
      "cell_type": "code",
      "source": [
        "\n",
        "\n",
        "# Use the best model to make predictions on the validation data\n",
        "best_model = rf  # Replace with the actual best model from your code\n",
        "predictions = best_model.predict(X_valid_scaled)\n",
        "\n",
        "# Print the predictions\n",
        "print(predictions)\n"
      ],
      "metadata": {
        "colab": {
          "base_uri": "https://localhost:8080/"
        },
        "id": "k9tOLm8Sabma",
        "outputId": "51b82815-34c7-4d15-aeab-05855fc993ff"
      },
      "execution_count": null,
      "outputs": [
        {
          "output_type": "stream",
          "name": "stdout",
          "text": [
            "[0 0 0 ... 1 0 0]\n"
          ]
        }
      ]
    },
    {
      "cell_type": "code",
      "source": [
        "print(classification_report(df_valid['PURCHASE'], predictions))"
      ],
      "metadata": {
        "colab": {
          "base_uri": "https://localhost:8080/"
        },
        "id": "9_DJ1MGmkJcV",
        "outputId": "7059a3fb-320b-4b7a-8ec5-daf8023245a4"
      },
      "execution_count": null,
      "outputs": [
        {
          "output_type": "stream",
          "name": "stdout",
          "text": [
            "              precision    recall  f1-score   support\n",
            "\n",
            "           0       0.87      0.77      0.82      7987\n",
            "           1       0.38      0.55      0.45      2013\n",
            "\n",
            "    accuracy                           0.73     10000\n",
            "   macro avg       0.62      0.66      0.63     10000\n",
            "weighted avg       0.77      0.73      0.74     10000\n",
            "\n"
          ]
        }
      ]
    },
    {
      "cell_type": "code",
      "source": [
        "# Create a confusion matrix\n",
        "confusion_mat = confusion_matrix(y_valid, predictions)\n",
        "\n",
        "# Plot the confusion matrix\n",
        "plt.figure(figsize=(8, 6))\n",
        "sns.heatmap(confusion_mat, annot=True, fmt='d', cmap='cool')\n",
        "plt.xlabel('Predicted Label')\n",
        "plt.ylabel('True Label')\n",
        "plt.title('Confusion Matrix')"
      ],
      "metadata": {
        "colab": {
          "base_uri": "https://localhost:8080/",
          "height": 581
        },
        "id": "aRSKUw1dcYOR",
        "outputId": "5753bdbd-1591-426c-c6b5-b1d6c2f2cae8"
      },
      "execution_count": null,
      "outputs": [
        {
          "output_type": "execute_result",
          "data": {
            "text/plain": [
              "Text(0.5, 1.0, 'Confusion Matrix')"
            ]
          },
          "metadata": {},
          "execution_count": 70
        },
        {
          "output_type": "display_data",
          "data": {
            "text/plain": [
              "<Figure size 800x600 with 2 Axes>"
            ],
            "image/png": "[encoded data removed]"
          },
          "metadata": {}
        }
      ]
    },
    {
      "cell_type": "code",
      "source": [
        "# Calculate Sensitivity, Specificity, and Accuracy\n",
        "sensitivity = confusion_mat[0, 0] / (confusion_mat[0, 0] + confusion_mat[0, 1])\n",
        "specificity = confusion_mat[1, 1] / (confusion_mat[1, 0] + confusion_mat[1, 1])\n",
        "accuracy = (confusion_mat[0, 0] + confusion_mat[1, 1]) / (confusion_mat[0, 0] + confusion_mat[0, 1] + confusion_mat[1, 0] + confusion_mat[1, 1])\n",
        "\n",
        "# Print the results\n",
        "print(\"Sensitivity:\", sensitivity)\n",
        "print(\"Specificity:\", specificity)\n",
        "print(\"Accuracy:\", accuracy)\n"
      ],
      "metadata": {
        "colab": {
          "base_uri": "https://localhost:8080/"
        },
        "id": "q77K-r4Da0L4",
        "outputId": "81f62a9a-7331-4f5c-c9cb-18bc2d06977e"
      },
      "execution_count": null,
      "outputs": [
        {
          "output_type": "stream",
          "name": "stdout",
          "text": [
            "Sensitivity: 0.7723801176912483\n",
            "Specificity: 0.5489319423745653\n",
            "Accuracy: 0.7274\n"
          ]
        }
      ]
    },
    {
      "cell_type": "code",
      "source": [
        "\n",
        "\n",
        "# Calculate the false positive rate (FPR) and true positive rate (TPR)\n",
        "fpr, tpr, _ = roc_curve(y_valid, best_model.predict_proba(X_valid_scaled)[:, 1])\n",
        "\n",
        "# Calculate the area under the curve (AUC)\n",
        "roc_auc = auc(fpr, tpr)\n",
        "\n",
        "# Plot the ROC curve\n",
        "plt.figure(figsize=(8, 6))\n",
        "plt.plot(fpr, tpr, color='purple', lw=2, label='ROC curve (area = %0.2f)' % roc_auc)\n",
        "plt.plot([0, 1], [0, 1], color='blue', lw=2, linestyle='--')\n",
        "plt.xlim([0.0, 1.0])\n",
        "plt.ylim([0.0, 1.05])\n",
        "plt.xlabel('False Positive Rate')\n",
        "plt.ylabel('True Positive Rate')\n",
        "plt.title('Receiver Operating Characteristic (ROC) Curve')\n",
        "plt.legend(loc=\"lower right\")\n",
        "plt.show()\n",
        "\n",
        "# Print the AUC value\n",
        "print('Area under the ROC curve:', roc_auc)\n"
      ],
      "metadata": {
        "colab": {
          "base_uri": "https://localhost:8080/",
          "height": 581
        },
        "id": "XFksjko5b2rb",
        "outputId": "7c42753e-dd9f-4da1-b52e-194126bbbedc"
      },
      "execution_count": null,
      "outputs": [
        {
          "output_type": "display_data",
          "data": {
            "text/plain": [
              "<Figure size 800x600 with 1 Axes>"
            ],
            "image/png": "[encoded data removed]"
          },
          "metadata": {}
        },
        {
          "output_type": "stream",
          "name": "stdout",
          "text": [
            "Area under the ROC curve: 0.7501571262939634\n"
          ]
        }
      ]
    },
    {
      "cell_type": "markdown",
      "source": [
        "## Question 5"
      ],
      "metadata": {
        "id": "AhV3lAYt6yiq"
      }
    },
    {
      "cell_type": "code",
      "source": [
        "from sklearn.svm import SVC\n",
        "from sklearn.metrics import accuracy_score, classification_report\n"
      ],
      "metadata": {
        "id": "FSFt2Xj062C6"
      },
      "execution_count": null,
      "outputs": []
    },
    {
      "cell_type": "code",
      "source": [
        "# Building and training the SVM model using a polynomial kernel\n",
        "svm_poly = SVC(kernel='poly', degree=3, C=0.01, random_state=423, probability=True)\n",
        "svm_poly.fit(X_train_scaled, y_train)  # Use the scaled training data\n"
      ],
      "metadata": {
        "colab": {
          "base_uri": "https://localhost:8080/",
          "height": 74
        },
        "id": "9FYpQLYQ7joR",
        "outputId": "1e40af97-a54c-4125-9e40-2f09ba683c12"
      },
      "execution_count": null,
      "outputs": [
        {
          "output_type": "execute_result",
          "data": {
            "text/plain": [
              "SVC(C=0.01, kernel='poly', probability=True, random_state=423)"
            ],
            "text/html": [
              "<style>#sk-container-id-3 {color: black;background-color: white;}#sk-container-id-3 pre{padding: 0;}#sk-container-id-3 div.sk-toggleable {background-color: white;}#sk-container-id-3 label.sk-toggleable__label {cursor: pointer;display: block;width: 100%;margin-bottom: 0;padding: 0.3em;box-sizing: border-box;text-align: center;}#sk-container-id-3 label.sk-toggleable__label-arrow:before {content: \"▸\";float: left;margin-right: 0.25em;color: #696969;}#sk-container-id-3 label.sk-toggleable__label-arrow:hover:before {color: black;}#sk-container-id-3 div.sk-estimator:hover label.sk-toggleable__label-arrow:before {color: black;}#sk-container-id-3 div.sk-toggleable__content {max-height: 0;max-width: 0;overflow: hidden;text-align: left;background-color: #f0f8ff;}#sk-container-id-3 div.sk-toggleable__content pre {margin: 0.2em;color: black;border-radius: 0.25em;background-color: #f0f8ff;}#sk-container-id-3 input.sk-toggleable__control:checked~div.sk-toggleable__content {max-height: 200px;max-width: 100%;overflow: auto;}#sk-container-id-3 input.sk-toggleable__control:checked~label.sk-toggleable__label-arrow:before {content: \"▾\";}#sk-container-id-3 div.sk-estimator input.sk-toggleable__control:checked~label.sk-toggleable__label {background-color: #d4ebff;}#sk-container-id-3 div.sk-label input.sk-toggleable__control:checked~label.sk-toggleable__label {background-color: #d4ebff;}#sk-container-id-3 input.sk-hidden--visually {border: 0;clip: rect(1px 1px 1px 1px);clip: rect(1px, 1px, 1px, 1px);height: 1px;margin: -1px;overflow: hidden;padding: 0;position: absolute;width: 1px;}#sk-container-id-3 div.sk-estimator {font-family: monospace;background-color: #f0f8ff;border: 1px dotted black;border-radius: 0.25em;box-sizing: border-box;margin-bottom: 0.5em;}#sk-container-id-3 div.sk-estimator:hover {background-color: #d4ebff;}#sk-container-id-3 div.sk-parallel-item::after {content: \"\";width: 100%;border-bottom: 1px solid gray;flex-grow: 1;}#sk-container-id-3 div.sk-label:hover label.sk-toggleable__label {background-color: #d4ebff;}#sk-container-id-3 div.sk-serial::before {content: \"\";position: absolute;border-left: 1px solid gray;box-sizing: border-box;top: 0;bottom: 0;left: 50%;z-index: 0;}#sk-container-id-3 div.sk-serial {display: flex;flex-direction: column;align-items: center;background-color: white;padding-right: 0.2em;padding-left: 0.2em;position: relative;}#sk-container-id-3 div.sk-item {position: relative;z-index: 1;}#sk-container-id-3 div.sk-parallel {display: flex;align-items: stretch;justify-content: center;background-color: white;position: relative;}#sk-container-id-3 div.sk-item::before, #sk-container-id-3 div.sk-parallel-item::before {content: \"\";position: absolute;border-left: 1px solid gray;box-sizing: border-box;top: 0;bottom: 0;left: 50%;z-index: -1;}#sk-container-id-3 div.sk-parallel-item {display: flex;flex-direction: column;z-index: 1;position: relative;background-color: white;}#sk-container-id-3 div.sk-parallel-item:first-child::after {align-self: flex-end;width: 50%;}#sk-container-id-3 div.sk-parallel-item:last-child::after {align-self: flex-start;width: 50%;}#sk-container-id-3 div.sk-parallel-item:only-child::after {width: 0;}#sk-container-id-3 div.sk-dashed-wrapped {border: 1px dashed gray;margin: 0 0.4em 0.5em 0.4em;box-sizing: border-box;padding-bottom: 0.4em;background-color: white;}#sk-container-id-3 div.sk-label label {font-family: monospace;font-weight: bold;display: inline-block;line-height: 1.2em;}#sk-container-id-3 div.sk-label-container {text-align: center;}#sk-container-id-3 div.sk-container {/* jupyter's `normalize.less` sets `[hidden] { display: none; }` but bootstrap.min.css set `[hidden] { display: none !important; }` so we also need the `!important` here to be able to override the default hidden behavior on the sphinx rendered scikit-learn.org. See: https://github.com/scikit-learn/scikit-learn/issues/21755 */display: inline-block !important;position: relative;}#sk-container-id-3 div.sk-text-repr-fallback {display: none;}</style><div id=\"sk-container-id-3\" class=\"sk-top-container\"><div class=\"sk-text-repr-fallback\"><pre>SVC(C=0.01, kernel=&#x27;poly&#x27;, probability=True, random_state=423)</pre><b>In a Jupyter environment, please rerun this cell to show the HTML representation or trust the notebook. <br />On GitHub, the HTML representation is unable to render, please try loading this page with nbviewer.org.</b></div><div class=\"sk-container\" hidden><div class=\"sk-item\"><div class=\"sk-estimator sk-toggleable\"><input class=\"sk-toggleable__control sk-hidden--visually\" id=\"sk-estimator-id-3\" type=\"checkbox\" checked><label for=\"sk-estimator-id-3\" class=\"sk-toggleable__label sk-toggleable__label-arrow\">SVC</label><div class=\"sk-toggleable__content\"><pre>SVC(C=0.01, kernel=&#x27;poly&#x27;, probability=True, random_state=423)</pre></div></div></div></div></div>"
            ]
          },
          "metadata": {},
          "execution_count": 75
        }
      ]
    },
    {
      "cell_type": "code",
      "source": [
        "# Building and training the SVM model using a Gaussian radial (RBF) kernel\n",
        "svm_rbf = SVC(kernel='rbf', gamma=0.000001, C=0.01, random_state=423, probability=True)\n",
        "svm_rbf.fit(X_train_scaled, y_train)  # Use the same scaled training data"
      ],
      "metadata": {
        "colab": {
          "base_uri": "https://localhost:8080/",
          "height": 74
        },
        "id": "pB4vYkB-7pms",
        "outputId": "9beebc39-82cf-4df2-fcd9-d34b743477e0"
      },
      "execution_count": null,
      "outputs": [
        {
          "output_type": "execute_result",
          "data": {
            "text/plain": [
              "SVC(C=0.01, gamma=1e-06, probability=True, random_state=423)"
            ],
            "text/html": [
              "<style>#sk-container-id-4 {color: black;background-color: white;}#sk-container-id-4 pre{padding: 0;}#sk-container-id-4 div.sk-toggleable {background-color: white;}#sk-container-id-4 label.sk-toggleable__label {cursor: pointer;display: block;width: 100%;margin-bottom: 0;padding: 0.3em;box-sizing: border-box;text-align: center;}#sk-container-id-4 label.sk-toggleable__label-arrow:before {content: \"▸\";float: left;margin-right: 0.25em;color: #696969;}#sk-container-id-4 label.sk-toggleable__label-arrow:hover:before {color: black;}#sk-container-id-4 div.sk-estimator:hover label.sk-toggleable__label-arrow:before {color: black;}#sk-container-id-4 div.sk-toggleable__content {max-height: 0;max-width: 0;overflow: hidden;text-align: left;background-color: #f0f8ff;}#sk-container-id-4 div.sk-toggleable__content pre {margin: 0.2em;color: black;border-radius: 0.25em;background-color: #f0f8ff;}#sk-container-id-4 input.sk-toggleable__control:checked~div.sk-toggleable__content {max-height: 200px;max-width: 100%;overflow: auto;}#sk-container-id-4 input.sk-toggleable__control:checked~label.sk-toggleable__label-arrow:before {content: \"▾\";}#sk-container-id-4 div.sk-estimator input.sk-toggleable__control:checked~label.sk-toggleable__label {background-color: #d4ebff;}#sk-container-id-4 div.sk-label input.sk-toggleable__control:checked~label.sk-toggleable__label {background-color: #d4ebff;}#sk-container-id-4 input.sk-hidden--visually {border: 0;clip: rect(1px 1px 1px 1px);clip: rect(1px, 1px, 1px, 1px);height: 1px;margin: -1px;overflow: hidden;padding: 0;position: absolute;width: 1px;}#sk-container-id-4 div.sk-estimator {font-family: monospace;background-color: #f0f8ff;border: 1px dotted black;border-radius: 0.25em;box-sizing: border-box;margin-bottom: 0.5em;}#sk-container-id-4 div.sk-estimator:hover {background-color: #d4ebff;}#sk-container-id-4 div.sk-parallel-item::after {content: \"\";width: 100%;border-bottom: 1px solid gray;flex-grow: 1;}#sk-container-id-4 div.sk-label:hover label.sk-toggleable__label {background-color: #d4ebff;}#sk-container-id-4 div.sk-serial::before {content: \"\";position: absolute;border-left: 1px solid gray;box-sizing: border-box;top: 0;bottom: 0;left: 50%;z-index: 0;}#sk-container-id-4 div.sk-serial {display: flex;flex-direction: column;align-items: center;background-color: white;padding-right: 0.2em;padding-left: 0.2em;position: relative;}#sk-container-id-4 div.sk-item {position: relative;z-index: 1;}#sk-container-id-4 div.sk-parallel {display: flex;align-items: stretch;justify-content: center;background-color: white;position: relative;}#sk-container-id-4 div.sk-item::before, #sk-container-id-4 div.sk-parallel-item::before {content: \"\";position: absolute;border-left: 1px solid gray;box-sizing: border-box;top: 0;bottom: 0;left: 50%;z-index: -1;}#sk-container-id-4 div.sk-parallel-item {display: flex;flex-direction: column;z-index: 1;position: relative;background-color: white;}#sk-container-id-4 div.sk-parallel-item:first-child::after {align-self: flex-end;width: 50%;}#sk-container-id-4 div.sk-parallel-item:last-child::after {align-self: flex-start;width: 50%;}#sk-container-id-4 div.sk-parallel-item:only-child::after {width: 0;}#sk-container-id-4 div.sk-dashed-wrapped {border: 1px dashed gray;margin: 0 0.4em 0.5em 0.4em;box-sizing: border-box;padding-bottom: 0.4em;background-color: white;}#sk-container-id-4 div.sk-label label {font-family: monospace;font-weight: bold;display: inline-block;line-height: 1.2em;}#sk-container-id-4 div.sk-label-container {text-align: center;}#sk-container-id-4 div.sk-container {/* jupyter's `normalize.less` sets `[hidden] { display: none; }` but bootstrap.min.css set `[hidden] { display: none !important; }` so we also need the `!important` here to be able to override the default hidden behavior on the sphinx rendered scikit-learn.org. See: https://github.com/scikit-learn/scikit-learn/issues/21755 */display: inline-block !important;position: relative;}#sk-container-id-4 div.sk-text-repr-fallback {display: none;}</style><div id=\"sk-container-id-4\" class=\"sk-top-container\"><div class=\"sk-text-repr-fallback\"><pre>SVC(C=0.01, gamma=1e-06, probability=True, random_state=423)</pre><b>In a Jupyter environment, please rerun this cell to show the HTML representation or trust the notebook. <br />On GitHub, the HTML representation is unable to render, please try loading this page with nbviewer.org.</b></div><div class=\"sk-container\" hidden><div class=\"sk-item\"><div class=\"sk-estimator sk-toggleable\"><input class=\"sk-toggleable__control sk-hidden--visually\" id=\"sk-estimator-id-4\" type=\"checkbox\" checked><label for=\"sk-estimator-id-4\" class=\"sk-toggleable__label sk-toggleable__label-arrow\">SVC</label><div class=\"sk-toggleable__content\"><pre>SVC(C=0.01, gamma=1e-06, probability=True, random_state=423)</pre></div></div></div></div></div>"
            ]
          },
          "metadata": {},
          "execution_count": 76
        }
      ]
    },
    {
      "cell_type": "code",
      "source": [
        "# Making predictions with the polynomial kernel SVM\n",
        "predictions_poly = svm_poly.predict(X_valid_scaled)\n",
        "\n",
        "# Making predictions with the Gaussian RBF kernel SVM\n",
        "predictions_rbf = svm_rbf.predict(X_valid_scaled)"
      ],
      "metadata": {
        "id": "aGqiB-b77xcf"
      },
      "execution_count": null,
      "outputs": []
    },
    {
      "cell_type": "code",
      "source": [
        "print(classification_report(df_valid['PURCHASE'], predictions_poly))\n"
      ],
      "metadata": {
        "colab": {
          "base_uri": "https://localhost:8080/"
        },
        "id": "QHB6KkTln0CI",
        "outputId": "da6d1a33-dad3-4261-dea1-77d5b8e58b08"
      },
      "execution_count": null,
      "outputs": [
        {
          "output_type": "stream",
          "name": "stdout",
          "text": [
            "              precision    recall  f1-score   support\n",
            "\n",
            "           0       0.80      1.00      0.89      7987\n",
            "           1       0.73      0.02      0.03      2013\n",
            "\n",
            "    accuracy                           0.80     10000\n",
            "   macro avg       0.77      0.51      0.46     10000\n",
            "weighted avg       0.79      0.80      0.72     10000\n",
            "\n"
          ]
        }
      ]
    },
    {
      "cell_type": "code",
      "source": [
        "print(classification_report(df_valid['PURCHASE'], predictions_rbf))"
      ],
      "metadata": {
        "colab": {
          "base_uri": "https://localhost:8080/"
        },
        "id": "nnjrjaTIn1pe",
        "outputId": "a65d1a08-89c1-4a2c-d7fc-d4e78832c629"
      },
      "execution_count": null,
      "outputs": [
        {
          "output_type": "stream",
          "name": "stdout",
          "text": [
            "              precision    recall  f1-score   support\n",
            "\n",
            "           0       0.80      1.00      0.89      7987\n",
            "           1       0.00      0.00      0.00      2013\n",
            "\n",
            "    accuracy                           0.80     10000\n",
            "   macro avg       0.40      0.50      0.44     10000\n",
            "weighted avg       0.64      0.80      0.71     10000\n",
            "\n"
          ]
        },
        {
          "output_type": "stream",
          "name": "stderr",
          "text": [
            "/usr/local/lib/python3.10/dist-packages/sklearn/metrics/_classification.py:1344: UndefinedMetricWarning: Precision and F-score are ill-defined and being set to 0.0 in labels with no predicted samples. Use `zero_division` parameter to control this behavior.\n",
            "  _warn_prf(average, modifier, msg_start, len(result))\n",
            "/usr/local/lib/python3.10/dist-packages/sklearn/metrics/_classification.py:1344: UndefinedMetricWarning: Precision and F-score are ill-defined and being set to 0.0 in labels with no predicted samples. Use `zero_division` parameter to control this behavior.\n",
            "  _warn_prf(average, modifier, msg_start, len(result))\n",
            "/usr/local/lib/python3.10/dist-packages/sklearn/metrics/_classification.py:1344: UndefinedMetricWarning: Precision and F-score are ill-defined and being set to 0.0 in labels with no predicted samples. Use `zero_division` parameter to control this behavior.\n",
            "  _warn_prf(average, modifier, msg_start, len(result))\n"
          ]
        }
      ]
    },
    {
      "cell_type": "markdown",
      "source": [
        "### SVM for Poly"
      ],
      "metadata": {
        "id": "3exg7M238Ff-"
      }
    },
    {
      "cell_type": "code",
      "source": [
        "from imblearn.over_sampling import SMOTE\n",
        "smote = SMOTE()\n",
        "X_train_smote, y_train_smote = smote.fit_resample(X_train_scaled, y_train)\n",
        "\n",
        "# Training the SVM model without class weights\n",
        "svm_poly_smote = SVC(kernel='poly', degree=3, C=0.01, random_state=423, probability=True)\n",
        "svm_poly_smote.fit(X_train_smote, y_train_smote)\n",
        "\n",
        "# Making predictions on the validation set\n",
        "predictions_poly_smote = svm_poly_smote.predict(X_valid_scaled)"
      ],
      "metadata": {
        "id": "E_weC0zuZ3gT"
      },
      "execution_count": null,
      "outputs": []
    },
    {
      "cell_type": "code",
      "source": [
        "print(classification_report(df_valid['PURCHASE'], predictions_poly_smote))"
      ],
      "metadata": {
        "colab": {
          "base_uri": "https://localhost:8080/"
        },
        "id": "fqdfTTrCpfVR",
        "outputId": "80cfa4ed-078d-4e67-8d0d-ae0802424ef3"
      },
      "execution_count": null,
      "outputs": [
        {
          "output_type": "stream",
          "name": "stdout",
          "text": [
            "              precision    recall  f1-score   support\n",
            "\n",
            "           0       0.88      0.82      0.85      7987\n",
            "           1       0.44      0.56      0.50      2013\n",
            "\n",
            "    accuracy                           0.77     10000\n",
            "   macro avg       0.66      0.69      0.67     10000\n",
            "weighted avg       0.79      0.77      0.78     10000\n",
            "\n"
          ]
        }
      ]
    },
    {
      "cell_type": "code",
      "source": [
        "# Evaluating the model\n",
        "confusion_matrix_poly_smote = confusion_matrix(y_valid, predictions_poly_smote)\n",
        "\n",
        "# Plot the confusion matrix\n",
        "plt.figure(figsize=(8, 6))\n",
        "sns.heatmap(confusion_mat, annot=True, fmt='d', cmap='cool')\n",
        "plt.xlabel('Predicted Label')\n",
        "plt.ylabel('True Label')\n",
        "plt.title('Confusion Matrix')"
      ],
      "metadata": {
        "id": "j1vL0nMGckcJ",
        "colab": {
          "base_uri": "https://localhost:8080/",
          "height": 582
        },
        "outputId": "3cc89a1e-1d5c-440a-d17e-b4562e61d9d7"
      },
      "execution_count": null,
      "outputs": [
        {
          "output_type": "execute_result",
          "data": {
            "text/plain": [
              "Text(0.5, 1.0, 'Confusion Matrix')"
            ]
          },
          "metadata": {},
          "execution_count": 60
        },
        {
          "output_type": "display_data",
          "data": {
            "text/plain": [
              "<Figure size 800x600 with 2 Axes>"
            ],
            "image/png": "[encoded data removed]"
          },
          "metadata": {}
        }
      ]
    },
    {
      "cell_type": "code",
      "source": [],
      "metadata": {
        "id": "aR24PiyYlzRT",
        "colab": {
          "base_uri": "https://localhost:8080/"
        },
        "outputId": "18b10b50-ae83-4fdb-a0c4-c78718388f51"
      },
      "execution_count": null,
      "outputs": [
        {
          "output_type": "stream",
          "name": "stdout",
          "text": [
            "Specificity: 0.568802781917536\n"
          ]
        }
      ]
    },
    {
      "cell_type": "code",
      "source": [
        "# Training the SVM model without class weights\n",
        "svm_poly_smote = SVC(kernel='poly', degree=3, C=0.01, random_state=423, probability=True)\n",
        "svm_poly_smote.fit(X_train_smote, y_train_smote)\n",
        "\n",
        "# Making predictions on the validation set\n",
        "predictions_poly_smote = svm_poly_smote.predict(X_valid_scaled)\n",
        "\n",
        "\n",
        "classification_report_poly_smote = classification_report(y_valid, predictions_poly_smote)\n",
        "print(\"\\nClassification Report with SMOTE:\")\n",
        "print(classification_report_poly_smote)"
      ],
      "metadata": {
        "colab": {
          "base_uri": "https://localhost:8080/"
        },
        "id": "AvTpB3pZ7yGV",
        "outputId": "47075133-7018-4a52-aa62-0fa1f0cd84b6"
      },
      "execution_count": null,
      "outputs": [
        {
          "output_type": "stream",
          "name": "stdout",
          "text": [
            "\n",
            "Classification Report with SMOTE:\n",
            "              precision    recall  f1-score   support\n",
            "\n",
            "           0       0.88      0.82      0.85      7987\n",
            "           1       0.44      0.57      0.50      2013\n",
            "\n",
            "    accuracy                           0.77     10000\n",
            "   macro avg       0.66      0.69      0.67     10000\n",
            "weighted avg       0.79      0.77      0.78     10000\n",
            "\n"
          ]
        }
      ]
    },
    {
      "cell_type": "code",
      "source": [
        "accuracy_poly_smote = accuracy_score(y_valid, predictions_poly_smote)\n",
        "print(\"Accuracy for Polynomial Kernel SVM with SMOTE:\", accuracy_poly_smote)\n",
        "\n",
        "# Confusion Matrix Heatmap\n",
        "plt.figure(figsize=(8, 6))\n",
        "sns.heatmap(confusion_matrix_poly_smote, annot=True, fmt=\"d\", cmap=\"cool\", xticklabels=['Predicted 0', 'Predicted 1'], yticklabels=['Actual 0', 'Actual 1'])\n",
        "#plt.title('Confusion Matrix Heatmap for Polynomial Kernel SVM with SMOTE')\n",
        "plt.xlabel('Predicted Labels')\n",
        "plt.ylabel('True Labels')\n",
        "plt.show()"
      ],
      "metadata": {
        "colab": {
          "base_uri": "https://localhost:8080/",
          "height": 560
        },
        "id": "J73FKJwk8NuR",
        "outputId": "6d396606-8484-428d-c148-f3bed8379b38"
      },
      "execution_count": null,
      "outputs": [
        {
          "output_type": "stream",
          "name": "stdout",
          "text": [
            "Accuracy for Polynomial Kernel SVM with SMOTE: 0.7707\n"
          ]
        },
        {
          "output_type": "display_data",
          "data": {
            "text/plain": [
              "<Figure size 800x600 with 2 Axes>"
            ],
            "image/png": "[encoded data removed]"
          },
          "metadata": {}
        }
      ]
    },
    {
      "cell_type": "code",
      "source": [
        "\n",
        "specificity = confusion_matrix_poly_smote[1, 1] / (confusion_matrix_poly_smote[1, 0] + confusion_matrix_poly_smote[1, 1])\n",
        "\n",
        "print(\"Specificity:\", specificity)\n"
      ],
      "metadata": {
        "colab": {
          "base_uri": "https://localhost:8080/"
        },
        "id": "Ky1XBKUqOJnk",
        "outputId": "3caefef8-f223-47b0-96b2-49b2ffcecc81"
      },
      "execution_count": null,
      "outputs": [
        {
          "output_type": "stream",
          "name": "stdout",
          "text": [
            "Specificity: 0.568802781917536\n"
          ]
        }
      ]
    },
    {
      "cell_type": "code",
      "source": [
        "# For Polynomial Kernel SVM with SMOTE\n",
        "if hasattr(svm_poly_smote, \"decision_function\"):\n",
        "    decision_scores_poly = svm_poly_smote.decision_function(X_valid_scaled)\n",
        "else:\n",
        "    decision_scores_poly = svm_poly_smote.predict_proba(X_valid_scaled)[:, 1]\n",
        "\n",
        "fpr_poly, tpr_poly, _ = roc_curve(y_valid, decision_scores_poly)\n",
        "auc_poly = auc(fpr_poly, tpr_poly)\n",
        "\n",
        "# Plotting ROC Curve for Polynomial Kernel SVM\n",
        "plt.figure(figsize=(8, 6))\n",
        "plt.plot(fpr_poly, tpr_poly, label=f'Polynomial Kernel SVM (AUC = {auc_poly:.2f})',color='purple')\n",
        "plt.plot([0, 1], [0, 1], 'k--', label='Chance (AUC = 0.50)',color='blue')\n",
        "plt.xlabel('False Positive Rate')\n",
        "plt.ylabel('True Positive Rate')\n",
        "plt.title('ROC Curve for Polynomial Kernel SVM with SMOTE')\n",
        "plt.legend(loc=\"lower right\")\n",
        "plt.show()"
      ],
      "metadata": {
        "colab": {
          "base_uri": "https://localhost:8080/",
          "height": 620
        },
        "id": "3w2_5tBF8UN_",
        "outputId": "e8daf5d2-faca-4e92-892f-84e9b76e8fa2"
      },
      "execution_count": null,
      "outputs": [
        {
          "output_type": "stream",
          "name": "stderr",
          "text": [
            "<ipython-input-63-f54cd1908e26>:13: UserWarning: color is redundantly defined by the 'color' keyword argument and the fmt string \"k--\" (-> color='k'). The keyword argument will take precedence.\n",
            "  plt.plot([0, 1], [0, 1], 'k--', label='Chance (AUC = 0.50)',color='blue')\n"
          ]
        },
        {
          "output_type": "display_data",
          "data": {
            "text/plain": [
              "<Figure size 800x600 with 1 Axes>"
            ],
            "image/png": "[encoded data removed]"
          },
          "metadata": {}
        }
      ]
    },
    {
      "cell_type": "markdown",
      "source": [
        "### SVM for RBF"
      ],
      "metadata": {
        "id": "GhVDePvW8fQ2"
      }
    },
    {
      "cell_type": "code",
      "source": [
        "from imblearn.over_sampling import SMOTE\n",
        "\n",
        "smote = SMOTE()\n",
        "X_train_smote, y_train_smote = smote.fit_resample(X_train_scaled, y_train)\n",
        "\n",
        "svm_rbf_smote = SVC(kernel='rbf', gamma=0.000001, C=0.01, class_weight='balanced', random_state=423)\n",
        "svm_rbf_smote.fit(X_train_smote, y_train_smote)\n",
        "predictions_rbf_smote = svm_rbf_smote.predict(X_valid_scaled)\n",
        "\n",
        "print(classification_report(y_valid, predictions_rbf_smote))"
      ],
      "metadata": {
        "colab": {
          "base_uri": "https://localhost:8080/"
        },
        "id": "YqkY8zVv8bR0",
        "outputId": "17f9a96d-cdff-40d4-d759-2457bd0a0d2b"
      },
      "execution_count": null,
      "outputs": [
        {
          "output_type": "stream",
          "name": "stdout",
          "text": [
            "              precision    recall  f1-score   support\n",
            "\n",
            "           0       0.91      0.70      0.79      7987\n",
            "           1       0.38      0.72      0.49      2013\n",
            "\n",
            "    accuracy                           0.70     10000\n",
            "   macro avg       0.64      0.71      0.64     10000\n",
            "weighted avg       0.80      0.70      0.73     10000\n",
            "\n"
          ]
        }
      ]
    },
    {
      "cell_type": "code",
      "source": [
        "accuracy_rbf_smote = accuracy_score(y_valid, predictions_rbf_smote)\n",
        "print(\"Accuracy for Gaussian RBF Kernel SVM with SMOTE:\", accuracy_rbf_smote)\n",
        "\n",
        "# Generate and display the confusion matrix heatmap\n",
        "confusion_matrix_rbf_smote = confusion_matrix(y_valid, predictions_rbf_smote)\n",
        "\n",
        "plt.figure(figsize=(8, 6))\n",
        "sns.heatmap(confusion_matrix_rbf_smote, annot=True, fmt=\"d\", cmap=\"cool\", xticklabels=['Predicted 0', 'Predicted 1'], yticklabels=['Actual 0', 'Actual 1'])\n",
        "plt.xlabel('Predicted Labels')\n",
        "plt.ylabel('True Labels')\n",
        "plt.show()"
      ],
      "metadata": {
        "colab": {
          "base_uri": "https://localhost:8080/",
          "height": 560
        },
        "id": "yoI9hv--8lRk",
        "outputId": "f39ef64a-d060-4e3a-83be-6ca41bfceda2"
      },
      "execution_count": null,
      "outputs": [
        {
          "output_type": "stream",
          "name": "stdout",
          "text": [
            "Accuracy for Gaussian RBF Kernel SVM with SMOTE: 0.702\n"
          ]
        },
        {
          "output_type": "display_data",
          "data": {
            "text/plain": [
              "<Figure size 800x600 with 2 Axes>"
            ],
            "image/png": "[encoded data removed]"
          },
          "metadata": {}
        }
      ]
    },
    {
      "cell_type": "code",
      "source": [
        "\n",
        "specificity = confusion_matrix_rbf_smote[1, 1] / (confusion_matrix_rbf_smote[1, 0] + confusion_matrix_rbf_smote[1, 1])\n",
        "\n",
        "print(\"Specificity:\", specificity)\n"
      ],
      "metadata": {
        "colab": {
          "base_uri": "https://localhost:8080/"
        },
        "id": "DKVphjiEOTd7",
        "outputId": "fcf1588d-a164-464d-b7ef-3347f61408ba"
      },
      "execution_count": null,
      "outputs": [
        {
          "output_type": "stream",
          "name": "stdout",
          "text": [
            "Specificity: 0.7208147044212618\n"
          ]
        }
      ]
    },
    {
      "cell_type": "code",
      "source": [
        "\n",
        "\n",
        "if hasattr(svm_rbf_smote, \"decision_function\"):\n",
        "    decision_scores_rbf = svm_rbf_smote.decision_function(X_valid_scaled)\n",
        "else:\n",
        "    decision_scores_rbf = svm_rbf_smote.predict_proba(X_valid_scaled)[:, 1]\n",
        "\n",
        "fpr_rbf, tpr_rbf, _ = roc_curve(y_valid, decision_scores_rbf)\n",
        "auc_rbf = auc(fpr_rbf, tpr_rbf)\n",
        "\n",
        "# Plotting ROC Curve for Gaussian RBF Kernel SVM\n",
        "plt.figure(figsize=(8, 6))\n",
        "plt.plot(fpr_rbf, tpr_rbf, label=f'Gaussian RBF Kernel SVM (AUC = {auc_rbf:.2f})',color='purple')\n",
        "plt.plot([0, 1], [0, 1], 'k--', label='Chance (AUC = 0.50)',color='blue')\n",
        "plt.xlabel('False Positive Rate')\n",
        "plt.ylabel('True Positive Rate')\n",
        "plt.title('ROC Curve for Gaussian RBF Kernel SVM with SMOTE')\n",
        "plt.legend(loc=\"lower right\")\n",
        "plt.show()"
      ],
      "metadata": {
        "colab": {
          "base_uri": "https://localhost:8080/",
          "height": 602
        },
        "id": "PYM6ZtA_80mI",
        "outputId": "4d041c0d-d3eb-40a3-cd82-4ca860fdbaf6"
      },
      "execution_count": null,
      "outputs": [
        {
          "output_type": "stream",
          "name": "stderr",
          "text": [
            "<ipython-input-67-fd2cb1dad90b>:12: UserWarning: color is redundantly defined by the 'color' keyword argument and the fmt string \"k--\" (-> color='k'). The keyword argument will take precedence.\n",
            "  plt.plot([0, 1], [0, 1], 'k--', label='Chance (AUC = 0.50)',color='blue')\n"
          ]
        },
        {
          "output_type": "display_data",
          "data": {
            "text/plain": [
              "<Figure size 800x600 with 1 Axes>"
            ],
            "image/png": "[encoded data removed]"
          },
          "metadata": {}
        }
      ]
    },
    {
      "cell_type": "code",
      "source": [],
      "metadata": {
        "id": "Qah-XG3-dxiB"
      },
      "execution_count": null,
      "outputs": []
    }
  ],
  "metadata": {
    "colab": {
      "provenance": [],
      "machine_shape": "hm"
    },
    "kernelspec": {
      "display_name": "Python 3",
      "name": "python3"
    },
    "language_info": {
      "name": "python"
    }
  },
  "nbformat": 4,
  "nbformat_minor": 0
}